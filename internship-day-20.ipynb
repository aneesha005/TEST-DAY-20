{
 "cells": [
  {
   "cell_type": "code",
   "execution_count": 2,
   "id": "2f8d0e59",
   "metadata": {},
   "outputs": [],
   "source": [
    "import pandas as pd\n",
    "import numpy as np\n",
    "import seaborn as sns\n",
    "import matplotlib.pyplot as plt"
   ]
  },
  {
   "cell_type": "code",
   "execution_count": 3,
   "id": "a02c7fb0",
   "metadata": {},
   "outputs": [],
   "source": [
    "df=pd.read_csv(r\"D:\\Norka\\Intenship\\50000 Records-new..csv\")"
   ]
  },
  {
   "cell_type": "code",
   "execution_count": 4,
   "id": "641485c6",
   "metadata": {},
   "outputs": [
    {
     "data": {
      "text/html": [
       "<div>\n",
       "<style scoped>\n",
       "    .dataframe tbody tr th:only-of-type {\n",
       "        vertical-align: middle;\n",
       "    }\n",
       "\n",
       "    .dataframe tbody tr th {\n",
       "        vertical-align: top;\n",
       "    }\n",
       "\n",
       "    .dataframe thead th {\n",
       "        text-align: right;\n",
       "    }\n",
       "</style>\n",
       "<table border=\"1\" class=\"dataframe\">\n",
       "  <thead>\n",
       "    <tr style=\"text-align: right;\">\n",
       "      <th></th>\n",
       "      <th>Emp ID</th>\n",
       "      <th>Name Prefix</th>\n",
       "      <th>First Name</th>\n",
       "      <th>Gender</th>\n",
       "      <th>Age in Yrs</th>\n",
       "      <th>Date of Joining</th>\n",
       "      <th>Age in Company (Years)</th>\n",
       "      <th>Country</th>\n",
       "      <th>Region</th>\n",
       "      <th>Salary</th>\n",
       "    </tr>\n",
       "  </thead>\n",
       "  <tbody>\n",
       "    <tr>\n",
       "      <th>0</th>\n",
       "      <td>857211</td>\n",
       "      <td>Ms.</td>\n",
       "      <td>Hermila</td>\n",
       "      <td>F</td>\n",
       "      <td>24</td>\n",
       "      <td>09-09-2014</td>\n",
       "      <td>2</td>\n",
       "      <td>Clay</td>\n",
       "      <td>South</td>\n",
       "      <td>168991</td>\n",
       "    </tr>\n",
       "    <tr>\n",
       "      <th>1</th>\n",
       "      <td>514341</td>\n",
       "      <td>Mr.</td>\n",
       "      <td>Antonio</td>\n",
       "      <td>M</td>\n",
       "      <td>27</td>\n",
       "      <td>08-02-2011</td>\n",
       "      <td>5</td>\n",
       "      <td>Screven</td>\n",
       "      <td>South</td>\n",
       "      <td>53504</td>\n",
       "    </tr>\n",
       "    <tr>\n",
       "      <th>2</th>\n",
       "      <td>314598</td>\n",
       "      <td>Prof.</td>\n",
       "      <td>Sebastian</td>\n",
       "      <td>M</td>\n",
       "      <td>36</td>\n",
       "      <td>04-01-2012</td>\n",
       "      <td>5</td>\n",
       "      <td>Jefferson</td>\n",
       "      <td>Northeast</td>\n",
       "      <td>158859</td>\n",
       "    </tr>\n",
       "    <tr>\n",
       "      <th>3</th>\n",
       "      <td>987773</td>\n",
       "      <td>Mr.</td>\n",
       "      <td>Alec</td>\n",
       "      <td>M</td>\n",
       "      <td>43</td>\n",
       "      <td>3-19-1998</td>\n",
       "      <td>19</td>\n",
       "      <td>Milledgeville</td>\n",
       "      <td>South</td>\n",
       "      <td>76105</td>\n",
       "    </tr>\n",
       "    <tr>\n",
       "      <th>4</th>\n",
       "      <td>690850</td>\n",
       "      <td>Mr.</td>\n",
       "      <td>Reggie</td>\n",
       "      <td>M</td>\n",
       "      <td>50</td>\n",
       "      <td>01-04-2010</td>\n",
       "      <td>7</td>\n",
       "      <td>Greene</td>\n",
       "      <td>Midwest</td>\n",
       "      <td>134436</td>\n",
       "    </tr>\n",
       "    <tr>\n",
       "      <th>...</th>\n",
       "      <td>...</td>\n",
       "      <td>...</td>\n",
       "      <td>...</td>\n",
       "      <td>...</td>\n",
       "      <td>...</td>\n",
       "      <td>...</td>\n",
       "      <td>...</td>\n",
       "      <td>...</td>\n",
       "      <td>...</td>\n",
       "      <td>...</td>\n",
       "    </tr>\n",
       "    <tr>\n",
       "      <th>49994</th>\n",
       "      <td>174392</td>\n",
       "      <td>Ms.</td>\n",
       "      <td>Manuela</td>\n",
       "      <td>F</td>\n",
       "      <td>55</td>\n",
       "      <td>06-10-2006</td>\n",
       "      <td>11</td>\n",
       "      <td>Buncombe</td>\n",
       "      <td>South</td>\n",
       "      <td>173154</td>\n",
       "    </tr>\n",
       "    <tr>\n",
       "      <th>49995</th>\n",
       "      <td>955700</td>\n",
       "      <td>Ms.</td>\n",
       "      <td>Ruth</td>\n",
       "      <td>F</td>\n",
       "      <td>36</td>\n",
       "      <td>6-22-2017</td>\n",
       "      <td>1</td>\n",
       "      <td>Franklin</td>\n",
       "      <td>Midwest</td>\n",
       "      <td>111738</td>\n",
       "    </tr>\n",
       "    <tr>\n",
       "      <th>49996</th>\n",
       "      <td>811811</td>\n",
       "      <td>Ms.</td>\n",
       "      <td>Roselia</td>\n",
       "      <td>F</td>\n",
       "      <td>41</td>\n",
       "      <td>10-28-2007</td>\n",
       "      <td>9</td>\n",
       "      <td>Sargent</td>\n",
       "      <td>Midwest</td>\n",
       "      <td>191991</td>\n",
       "    </tr>\n",
       "    <tr>\n",
       "      <th>49997</th>\n",
       "      <td>365602</td>\n",
       "      <td>Ms.</td>\n",
       "      <td>Kasha</td>\n",
       "      <td>F</td>\n",
       "      <td>37</td>\n",
       "      <td>12-25-2012</td>\n",
       "      <td>4</td>\n",
       "      <td>Middlesex</td>\n",
       "      <td>Northeast</td>\n",
       "      <td>173216</td>\n",
       "    </tr>\n",
       "    <tr>\n",
       "      <th>49998</th>\n",
       "      <td>504521</td>\n",
       "      <td>Ms.</td>\n",
       "      <td>Corinna</td>\n",
       "      <td>F</td>\n",
       "      <td>38</td>\n",
       "      <td>10-06-2013</td>\n",
       "      <td>3</td>\n",
       "      <td>Desha</td>\n",
       "      <td>South</td>\n",
       "      <td>153592</td>\n",
       "    </tr>\n",
       "  </tbody>\n",
       "</table>\n",
       "<p>49999 rows × 10 columns</p>\n",
       "</div>"
      ],
      "text/plain": [
       "       Emp ID Name Prefix First Name Gender  Age in Yrs Date of Joining  \\\n",
       "0      857211         Ms.    Hermila      F          24      09-09-2014   \n",
       "1      514341         Mr.    Antonio      M          27      08-02-2011   \n",
       "2      314598       Prof.  Sebastian      M          36      04-01-2012   \n",
       "3      987773         Mr.       Alec      M          43       3-19-1998   \n",
       "4      690850         Mr.     Reggie      M          50      01-04-2010   \n",
       "...       ...         ...        ...    ...         ...             ...   \n",
       "49994  174392         Ms.    Manuela      F          55      06-10-2006   \n",
       "49995  955700         Ms.       Ruth      F          36       6-22-2017   \n",
       "49996  811811         Ms.    Roselia      F          41      10-28-2007   \n",
       "49997  365602         Ms.      Kasha      F          37      12-25-2012   \n",
       "49998  504521         Ms.    Corinna      F          38      10-06-2013   \n",
       "\n",
       "       Age in Company (Years)        Country     Region  Salary  \n",
       "0                           2           Clay      South  168991  \n",
       "1                           5        Screven      South   53504  \n",
       "2                           5      Jefferson  Northeast  158859  \n",
       "3                          19  Milledgeville      South   76105  \n",
       "4                           7         Greene    Midwest  134436  \n",
       "...                       ...            ...        ...     ...  \n",
       "49994                      11       Buncombe      South  173154  \n",
       "49995                       1       Franklin    Midwest  111738  \n",
       "49996                       9        Sargent    Midwest  191991  \n",
       "49997                       4      Middlesex  Northeast  173216  \n",
       "49998                       3          Desha      South  153592  \n",
       "\n",
       "[49999 rows x 10 columns]"
      ]
     },
     "execution_count": 4,
     "metadata": {},
     "output_type": "execute_result"
    }
   ],
   "source": [
    "df"
   ]
  },
  {
   "cell_type": "code",
   "execution_count": 5,
   "id": "06a7b2e3",
   "metadata": {},
   "outputs": [
    {
     "name": "stdout",
     "output_type": "stream",
     "text": [
      "<class 'pandas.core.frame.DataFrame'>\n",
      "RangeIndex: 49999 entries, 0 to 49998\n",
      "Data columns (total 10 columns):\n",
      " #   Column                  Non-Null Count  Dtype \n",
      "---  ------                  --------------  ----- \n",
      " 0   Emp ID                  49999 non-null  int64 \n",
      " 1   Name Prefix             49999 non-null  object\n",
      " 2   First Name              49999 non-null  object\n",
      " 3   Gender                  49999 non-null  object\n",
      " 4   Age in Yrs              49999 non-null  int64 \n",
      " 5   Date of Joining         49999 non-null  object\n",
      " 6   Age in Company (Years)  49999 non-null  int64 \n",
      " 7   Country                 49999 non-null  object\n",
      " 8   Region                  49999 non-null  object\n",
      " 9   Salary                  49999 non-null  int64 \n",
      "dtypes: int64(4), object(6)\n",
      "memory usage: 3.8+ MB\n"
     ]
    }
   ],
   "source": [
    "df.info()"
   ]
  },
  {
   "cell_type": "code",
   "execution_count": 6,
   "id": "2cf84382",
   "metadata": {},
   "outputs": [
    {
     "data": {
      "text/plain": [
       "Emp ID                    0\n",
       "Name Prefix               0\n",
       "First Name                0\n",
       "Gender                    0\n",
       "Age in Yrs                0\n",
       "Date of Joining           0\n",
       "Age in Company (Years)    0\n",
       "Country                   0\n",
       "Region                    0\n",
       "Salary                    0\n",
       "dtype: int64"
      ]
     },
     "execution_count": 6,
     "metadata": {},
     "output_type": "execute_result"
    }
   ],
   "source": [
    "df.isnull().sum()"
   ]
  },
  {
   "cell_type": "code",
   "execution_count": 7,
   "id": "2e5ea21a",
   "metadata": {},
   "outputs": [
    {
     "data": {
      "text/html": [
       "<div>\n",
       "<style scoped>\n",
       "    .dataframe tbody tr th:only-of-type {\n",
       "        vertical-align: middle;\n",
       "    }\n",
       "\n",
       "    .dataframe tbody tr th {\n",
       "        vertical-align: top;\n",
       "    }\n",
       "\n",
       "    .dataframe thead th {\n",
       "        text-align: right;\n",
       "    }\n",
       "</style>\n",
       "<table border=\"1\" class=\"dataframe\">\n",
       "  <thead>\n",
       "    <tr style=\"text-align: right;\">\n",
       "      <th></th>\n",
       "      <th>Emp ID</th>\n",
       "      <th>Age in Yrs</th>\n",
       "      <th>Age in Company (Years)</th>\n",
       "      <th>Salary</th>\n",
       "    </tr>\n",
       "  </thead>\n",
       "  <tbody>\n",
       "    <tr>\n",
       "      <th>count</th>\n",
       "      <td>49999.000000</td>\n",
       "      <td>49999.00000</td>\n",
       "      <td>49999.000000</td>\n",
       "      <td>49999.000000</td>\n",
       "    </tr>\n",
       "    <tr>\n",
       "      <th>mean</th>\n",
       "      <td>555498.523950</td>\n",
       "      <td>39.97836</td>\n",
       "      <td>9.437269</td>\n",
       "      <td>120020.098642</td>\n",
       "    </tr>\n",
       "    <tr>\n",
       "      <th>std</th>\n",
       "      <td>256640.143462</td>\n",
       "      <td>11.22956</td>\n",
       "      <td>8.476399</td>\n",
       "      <td>46178.501293</td>\n",
       "    </tr>\n",
       "    <tr>\n",
       "      <th>min</th>\n",
       "      <td>111141.000000</td>\n",
       "      <td>21.00000</td>\n",
       "      <td>1.000000</td>\n",
       "      <td>40001.000000</td>\n",
       "    </tr>\n",
       "    <tr>\n",
       "      <th>25%</th>\n",
       "      <td>333295.000000</td>\n",
       "      <td>30.00000</td>\n",
       "      <td>2.000000</td>\n",
       "      <td>79921.500000</td>\n",
       "    </tr>\n",
       "    <tr>\n",
       "      <th>50%</th>\n",
       "      <td>556482.000000</td>\n",
       "      <td>40.00000</td>\n",
       "      <td>7.000000</td>\n",
       "      <td>120147.000000</td>\n",
       "    </tr>\n",
       "    <tr>\n",
       "      <th>75%</th>\n",
       "      <td>777141.500000</td>\n",
       "      <td>50.00000</td>\n",
       "      <td>14.000000</td>\n",
       "      <td>160036.500000</td>\n",
       "    </tr>\n",
       "    <tr>\n",
       "      <th>max</th>\n",
       "      <td>999989.000000</td>\n",
       "      <td>60.00000</td>\n",
       "      <td>38.000000</td>\n",
       "      <td>199998.000000</td>\n",
       "    </tr>\n",
       "  </tbody>\n",
       "</table>\n",
       "</div>"
      ],
      "text/plain": [
       "              Emp ID   Age in Yrs  Age in Company (Years)         Salary\n",
       "count   49999.000000  49999.00000            49999.000000   49999.000000\n",
       "mean   555498.523950     39.97836                9.437269  120020.098642\n",
       "std    256640.143462     11.22956                8.476399   46178.501293\n",
       "min    111141.000000     21.00000                1.000000   40001.000000\n",
       "25%    333295.000000     30.00000                2.000000   79921.500000\n",
       "50%    556482.000000     40.00000                7.000000  120147.000000\n",
       "75%    777141.500000     50.00000               14.000000  160036.500000\n",
       "max    999989.000000     60.00000               38.000000  199998.000000"
      ]
     },
     "execution_count": 7,
     "metadata": {},
     "output_type": "execute_result"
    }
   ],
   "source": [
    "df.describe()"
   ]
  },
  {
   "cell_type": "code",
   "execution_count": 8,
   "id": "1f4fd9bd",
   "metadata": {},
   "outputs": [
    {
     "data": {
      "text/plain": [
       "0        False\n",
       "1        False\n",
       "2        False\n",
       "3        False\n",
       "4        False\n",
       "         ...  \n",
       "49994    False\n",
       "49995    False\n",
       "49996    False\n",
       "49997    False\n",
       "49998    False\n",
       "Length: 49999, dtype: bool"
      ]
     },
     "execution_count": 8,
     "metadata": {},
     "output_type": "execute_result"
    }
   ],
   "source": [
    "df.duplicated()"
   ]
  },
  {
   "cell_type": "code",
   "execution_count": 9,
   "id": "e37bc74a",
   "metadata": {},
   "outputs": [
    {
     "data": {
      "text/plain": [
       "0        False\n",
       "1        False\n",
       "2        False\n",
       "3        False\n",
       "4        False\n",
       "         ...  \n",
       "49994    False\n",
       "49995    False\n",
       "49996    False\n",
       "49997    False\n",
       "49998    False\n",
       "Length: 49999, dtype: bool"
      ]
     },
     "execution_count": 9,
     "metadata": {},
     "output_type": "execute_result"
    }
   ],
   "source": [
    "df.duplicated(\"Emp ID\")"
   ]
  },
  {
   "cell_type": "code",
   "execution_count": 10,
   "id": "b2965db7",
   "metadata": {},
   "outputs": [
    {
     "data": {
      "text/plain": [
       "(49999, 10)"
      ]
     },
     "execution_count": 10,
     "metadata": {},
     "output_type": "execute_result"
    }
   ],
   "source": [
    "df.shape"
   ]
  },
  {
   "cell_type": "code",
   "execution_count": 11,
   "id": "ca8fb5f3",
   "metadata": {},
   "outputs": [],
   "source": [
    "df=df.drop_duplicates(\"Emp ID\")"
   ]
  },
  {
   "cell_type": "code",
   "execution_count": 12,
   "id": "21b10b50",
   "metadata": {},
   "outputs": [
    {
     "data": {
      "text/plain": [
       "(48614, 10)"
      ]
     },
     "execution_count": 12,
     "metadata": {},
     "output_type": "execute_result"
    }
   ],
   "source": [
    "df.shape"
   ]
  },
  {
   "cell_type": "code",
   "execution_count": 13,
   "id": "ba13eb16",
   "metadata": {},
   "outputs": [
    {
     "data": {
      "text/plain": [
       "Emp ID                     int64\n",
       "Name Prefix               object\n",
       "First Name                object\n",
       "Gender                    object\n",
       "Age in Yrs                 int64\n",
       "Date of Joining           object\n",
       "Age in Company (Years)     int64\n",
       "Country                   object\n",
       "Region                    object\n",
       "Salary                     int64\n",
       "dtype: object"
      ]
     },
     "execution_count": 13,
     "metadata": {},
     "output_type": "execute_result"
    }
   ],
   "source": [
    "df.dtypes"
   ]
  },
  {
   "cell_type": "code",
   "execution_count": 14,
   "id": "38b80776",
   "metadata": {},
   "outputs": [
    {
     "data": {
      "text/html": [
       "<div>\n",
       "<style scoped>\n",
       "    .dataframe tbody tr th:only-of-type {\n",
       "        vertical-align: middle;\n",
       "    }\n",
       "\n",
       "    .dataframe tbody tr th {\n",
       "        vertical-align: top;\n",
       "    }\n",
       "\n",
       "    .dataframe thead th {\n",
       "        text-align: right;\n",
       "    }\n",
       "</style>\n",
       "<table border=\"1\" class=\"dataframe\">\n",
       "  <thead>\n",
       "    <tr style=\"text-align: right;\">\n",
       "      <th></th>\n",
       "      <th>Emp ID</th>\n",
       "      <th>Name Prefix</th>\n",
       "      <th>First Name</th>\n",
       "      <th>Gender</th>\n",
       "      <th>Age in Yrs</th>\n",
       "      <th>Date of Joining</th>\n",
       "      <th>Age in Company (Years)</th>\n",
       "      <th>Country</th>\n",
       "      <th>Region</th>\n",
       "      <th>Salary</th>\n",
       "    </tr>\n",
       "  </thead>\n",
       "  <tbody>\n",
       "    <tr>\n",
       "      <th>0</th>\n",
       "      <td>857211</td>\n",
       "      <td>Ms.</td>\n",
       "      <td>Hermila</td>\n",
       "      <td>F</td>\n",
       "      <td>24</td>\n",
       "      <td>09-09-2014</td>\n",
       "      <td>2</td>\n",
       "      <td>Clay</td>\n",
       "      <td>South</td>\n",
       "      <td>168991</td>\n",
       "    </tr>\n",
       "    <tr>\n",
       "      <th>1</th>\n",
       "      <td>514341</td>\n",
       "      <td>Mr.</td>\n",
       "      <td>Antonio</td>\n",
       "      <td>M</td>\n",
       "      <td>27</td>\n",
       "      <td>08-02-2011</td>\n",
       "      <td>5</td>\n",
       "      <td>Screven</td>\n",
       "      <td>South</td>\n",
       "      <td>53504</td>\n",
       "    </tr>\n",
       "    <tr>\n",
       "      <th>2</th>\n",
       "      <td>314598</td>\n",
       "      <td>Prof.</td>\n",
       "      <td>Sebastian</td>\n",
       "      <td>M</td>\n",
       "      <td>36</td>\n",
       "      <td>04-01-2012</td>\n",
       "      <td>5</td>\n",
       "      <td>Jefferson</td>\n",
       "      <td>Northeast</td>\n",
       "      <td>158859</td>\n",
       "    </tr>\n",
       "    <tr>\n",
       "      <th>3</th>\n",
       "      <td>987773</td>\n",
       "      <td>Mr.</td>\n",
       "      <td>Alec</td>\n",
       "      <td>M</td>\n",
       "      <td>43</td>\n",
       "      <td>3-19-1998</td>\n",
       "      <td>19</td>\n",
       "      <td>Milledgeville</td>\n",
       "      <td>South</td>\n",
       "      <td>76105</td>\n",
       "    </tr>\n",
       "    <tr>\n",
       "      <th>4</th>\n",
       "      <td>690850</td>\n",
       "      <td>Mr.</td>\n",
       "      <td>Reggie</td>\n",
       "      <td>M</td>\n",
       "      <td>50</td>\n",
       "      <td>01-04-2010</td>\n",
       "      <td>7</td>\n",
       "      <td>Greene</td>\n",
       "      <td>Midwest</td>\n",
       "      <td>134436</td>\n",
       "    </tr>\n",
       "    <tr>\n",
       "      <th>5</th>\n",
       "      <td>358257</td>\n",
       "      <td>Prof.</td>\n",
       "      <td>Elisha</td>\n",
       "      <td>M</td>\n",
       "      <td>44</td>\n",
       "      <td>5-22-2015</td>\n",
       "      <td>2</td>\n",
       "      <td>Chelan</td>\n",
       "      <td>West</td>\n",
       "      <td>119237</td>\n",
       "    </tr>\n",
       "    <tr>\n",
       "      <th>6</th>\n",
       "      <td>303899</td>\n",
       "      <td>Mr.</td>\n",
       "      <td>Danilo</td>\n",
       "      <td>M</td>\n",
       "      <td>52</td>\n",
       "      <td>2-14-1994</td>\n",
       "      <td>23</td>\n",
       "      <td>Polk</td>\n",
       "      <td>Midwest</td>\n",
       "      <td>115449</td>\n",
       "    </tr>\n",
       "    <tr>\n",
       "      <th>7</th>\n",
       "      <td>901163</td>\n",
       "      <td>Ms.</td>\n",
       "      <td>Madalene</td>\n",
       "      <td>F</td>\n",
       "      <td>59</td>\n",
       "      <td>3-21-2011</td>\n",
       "      <td>6</td>\n",
       "      <td>Columbia</td>\n",
       "      <td>West</td>\n",
       "      <td>104968</td>\n",
       "    </tr>\n",
       "    <tr>\n",
       "      <th>8</th>\n",
       "      <td>640135</td>\n",
       "      <td>Drs.</td>\n",
       "      <td>Micheal</td>\n",
       "      <td>F</td>\n",
       "      <td>47</td>\n",
       "      <td>9-13-2001</td>\n",
       "      <td>15</td>\n",
       "      <td>Trumbull</td>\n",
       "      <td>Midwest</td>\n",
       "      <td>71948</td>\n",
       "    </tr>\n",
       "    <tr>\n",
       "      <th>9</th>\n",
       "      <td>775378</td>\n",
       "      <td>Mrs.</td>\n",
       "      <td>Wilma</td>\n",
       "      <td>F</td>\n",
       "      <td>50</td>\n",
       "      <td>7-19-1998</td>\n",
       "      <td>19</td>\n",
       "      <td>Doña Ana</td>\n",
       "      <td>West</td>\n",
       "      <td>114397</td>\n",
       "    </tr>\n",
       "    <tr>\n",
       "      <th>10</th>\n",
       "      <td>257614</td>\n",
       "      <td>Prof.</td>\n",
       "      <td>Jorge</td>\n",
       "      <td>M</td>\n",
       "      <td>47</td>\n",
       "      <td>10-31-2013</td>\n",
       "      <td>3</td>\n",
       "      <td>St. Croix</td>\n",
       "      <td>Midwest</td>\n",
       "      <td>106883</td>\n",
       "    </tr>\n",
       "    <tr>\n",
       "      <th>11</th>\n",
       "      <td>313674</td>\n",
       "      <td>Mr.</td>\n",
       "      <td>Isaac</td>\n",
       "      <td>M</td>\n",
       "      <td>34</td>\n",
       "      <td>05-04-2005</td>\n",
       "      <td>12</td>\n",
       "      <td>Los Angeles</td>\n",
       "      <td>West</td>\n",
       "      <td>79923</td>\n",
       "    </tr>\n",
       "    <tr>\n",
       "      <th>12</th>\n",
       "      <td>359415</td>\n",
       "      <td>Mr.</td>\n",
       "      <td>Emerson</td>\n",
       "      <td>M</td>\n",
       "      <td>45</td>\n",
       "      <td>5-24-1993</td>\n",
       "      <td>24</td>\n",
       "      <td>Johnson</td>\n",
       "      <td>Midwest</td>\n",
       "      <td>179309</td>\n",
       "    </tr>\n",
       "    <tr>\n",
       "      <th>13</th>\n",
       "      <td>858207</td>\n",
       "      <td>Mr.</td>\n",
       "      <td>Booker</td>\n",
       "      <td>M</td>\n",
       "      <td>37</td>\n",
       "      <td>11-17-2006</td>\n",
       "      <td>11</td>\n",
       "      <td>Northumberland</td>\n",
       "      <td>South</td>\n",
       "      <td>55634</td>\n",
       "    </tr>\n",
       "    <tr>\n",
       "      <th>14</th>\n",
       "      <td>731568</td>\n",
       "      <td>Prof.</td>\n",
       "      <td>Margarito</td>\n",
       "      <td>M</td>\n",
       "      <td>27</td>\n",
       "      <td>5-22-2014</td>\n",
       "      <td>3</td>\n",
       "      <td>Polk</td>\n",
       "      <td>West</td>\n",
       "      <td>173211</td>\n",
       "    </tr>\n",
       "  </tbody>\n",
       "</table>\n",
       "</div>"
      ],
      "text/plain": [
       "    Emp ID Name Prefix First Name Gender  Age in Yrs Date of Joining  \\\n",
       "0   857211         Ms.    Hermila      F          24      09-09-2014   \n",
       "1   514341         Mr.    Antonio      M          27      08-02-2011   \n",
       "2   314598       Prof.  Sebastian      M          36      04-01-2012   \n",
       "3   987773         Mr.       Alec      M          43       3-19-1998   \n",
       "4   690850         Mr.     Reggie      M          50      01-04-2010   \n",
       "5   358257       Prof.     Elisha      M          44       5-22-2015   \n",
       "6   303899         Mr.     Danilo      M          52       2-14-1994   \n",
       "7   901163         Ms.   Madalene      F          59       3-21-2011   \n",
       "8   640135        Drs.    Micheal      F          47       9-13-2001   \n",
       "9   775378        Mrs.      Wilma      F          50       7-19-1998   \n",
       "10  257614       Prof.      Jorge      M          47      10-31-2013   \n",
       "11  313674         Mr.      Isaac      M          34      05-04-2005   \n",
       "12  359415         Mr.    Emerson      M          45       5-24-1993   \n",
       "13  858207         Mr.     Booker      M          37      11-17-2006   \n",
       "14  731568       Prof.  Margarito      M          27       5-22-2014   \n",
       "\n",
       "    Age in Company (Years)         Country     Region  Salary  \n",
       "0                        2            Clay      South  168991  \n",
       "1                        5         Screven      South   53504  \n",
       "2                        5       Jefferson  Northeast  158859  \n",
       "3                       19   Milledgeville      South   76105  \n",
       "4                        7          Greene    Midwest  134436  \n",
       "5                        2          Chelan       West  119237  \n",
       "6                       23            Polk    Midwest  115449  \n",
       "7                        6        Columbia       West  104968  \n",
       "8                       15        Trumbull    Midwest   71948  \n",
       "9                       19        Doña Ana       West  114397  \n",
       "10                       3       St. Croix    Midwest  106883  \n",
       "11                      12     Los Angeles       West   79923  \n",
       "12                      24         Johnson    Midwest  179309  \n",
       "13                      11  Northumberland      South   55634  \n",
       "14                       3            Polk       West  173211  "
      ]
     },
     "execution_count": 14,
     "metadata": {},
     "output_type": "execute_result"
    }
   ],
   "source": [
    "df.head(15)"
   ]
  },
  {
   "cell_type": "code",
   "execution_count": 15,
   "id": "9d7fbf1f",
   "metadata": {},
   "outputs": [
    {
     "data": {
      "text/plain": [
       "Region\n",
       "South        18138\n",
       "Midwest      13279\n",
       "West          8638\n",
       "Northeast     8559\n",
       "dtype: int64"
      ]
     },
     "execution_count": 15,
     "metadata": {},
     "output_type": "execute_result"
    }
   ],
   "source": [
    "df.value_counts(\"Region\")"
   ]
  },
  {
   "cell_type": "code",
   "execution_count": 16,
   "id": "98539a09",
   "metadata": {},
   "outputs": [
    {
     "data": {
      "text/plain": [
       "First Name\n",
       "Allen      40\n",
       "Cecil      40\n",
       "Adam       40\n",
       "Juan       39\n",
       "Lindsey    39\n",
       "           ..\n",
       "Helaine     1\n",
       "Letty       1\n",
       "Heike       1\n",
       "Kenya       1\n",
       "Jene        1\n",
       "Length: 5152, dtype: int64"
      ]
     },
     "execution_count": 16,
     "metadata": {},
     "output_type": "execute_result"
    }
   ],
   "source": [
    "df.value_counts(\"First Name\")"
   ]
  },
  {
   "cell_type": "code",
   "execution_count": 17,
   "id": "5869ed3f",
   "metadata": {},
   "outputs": [
    {
     "data": {
      "text/plain": [
       "Name Prefix\n",
       "Mr.      16877\n",
       "Ms.      10877\n",
       "Mrs.      8141\n",
       "Hon.      5099\n",
       "Drs.      2725\n",
       "Dr.       2469\n",
       "Prof.     2426\n",
       "dtype: int64"
      ]
     },
     "execution_count": 17,
     "metadata": {},
     "output_type": "execute_result"
    }
   ],
   "source": [
    "df.value_counts(\"Name Prefix\")"
   ]
  },
  {
   "cell_type": "code",
   "execution_count": 18,
   "id": "d466747b",
   "metadata": {},
   "outputs": [
    {
     "data": {
      "text/plain": [
       "Country\n",
       "Jefferson      566\n",
       "Los Angeles    560\n",
       "Washington     559\n",
       "Montgomery     452\n",
       "Orange         424\n",
       "              ... \n",
       "Marcus           1\n",
       "Marysville       1\n",
       "McFadden         1\n",
       "McKittrick       1\n",
       "Zurich           1\n",
       "Length: 2438, dtype: int64"
      ]
     },
     "execution_count": 18,
     "metadata": {},
     "output_type": "execute_result"
    }
   ],
   "source": [
    "df.value_counts(\"Country\")"
   ]
  },
  {
   "cell_type": "code",
   "execution_count": 19,
   "id": "10170bd9",
   "metadata": {},
   "outputs": [
    {
     "name": "stderr",
     "output_type": "stream",
     "text": [
      "C:\\Users\\91799\\anaconda3\\lib\\site-packages\\pandas\\core\\frame.py:3191: SettingWithCopyWarning: \n",
      "A value is trying to be set on a copy of a slice from a DataFrame.\n",
      "Try using .loc[row_indexer,col_indexer] = value instead\n",
      "\n",
      "See the caveats in the documentation: https://pandas.pydata.org/pandas-docs/stable/user_guide/indexing.html#returning-a-view-versus-a-copy\n",
      "  self[k1] = value[k2]\n"
     ]
    }
   ],
   "source": [
    "df[[\"Emp ID\", \"Name Prefix\",\"First Name\", \"Gender\", \"Age in Yrs\", \"Date of Joining\", \"Age in Company (Years)\", \"Country\",\"Region\",\"Salary\"]] =df[[\"Emp ID\", \"Name Prefix\",\"First Name\", \"Gender\", \"Age in Yrs\", \"Date of Joining\", \"Age in Company (Years)\", \"Country\",\"Region\",\"Salary\"]].replace(0,np.NaN)"
   ]
  },
  {
   "cell_type": "code",
   "execution_count": 20,
   "id": "f6ba9a23",
   "metadata": {},
   "outputs": [
    {
     "data": {
      "text/plain": [
       "Emp ID                    0\n",
       "Name Prefix               0\n",
       "First Name                0\n",
       "Gender                    0\n",
       "Age in Yrs                0\n",
       "Date of Joining           0\n",
       "Age in Company (Years)    0\n",
       "Country                   0\n",
       "Region                    0\n",
       "Salary                    0\n",
       "dtype: int64"
      ]
     },
     "execution_count": 20,
     "metadata": {},
     "output_type": "execute_result"
    }
   ],
   "source": [
    "df.isnull().sum()"
   ]
  },
  {
   "cell_type": "code",
   "execution_count": 21,
   "id": "b56619d0",
   "metadata": {},
   "outputs": [
    {
     "data": {
      "text/plain": [
       "array([[<AxesSubplot:title={'center':'Emp ID'}>,\n",
       "        <AxesSubplot:title={'center':'Age in Yrs'}>],\n",
       "       [<AxesSubplot:title={'center':'Age in Company (Years)'}>,\n",
       "        <AxesSubplot:title={'center':'Salary'}>]], dtype=object)"
      ]
     },
     "execution_count": 21,
     "metadata": {},
     "output_type": "execute_result"
    },
    {
     "data": {
      "image/png": "[encoded data removed]",
      "text/plain": [
       "<Figure size 720x720 with 4 Axes>"
      ]
     },
     "metadata": {
      "needs_background": "light"
     },
     "output_type": "display_data"
    }
   ],
   "source": [
    "df.hist(bins=50,figsize=(10,10))"
   ]
  },
  {
   "cell_type": "code",
   "execution_count": 22,
   "id": "773a7eb5",
   "metadata": {},
   "outputs": [
    {
     "data": {
      "image/png": "[encoded data removed]",
      "text/plain": [
       "<Figure size 720x360 with 1 Axes>"
      ]
     },
     "metadata": {},
     "output_type": "display_data"
    }
   ],
   "source": [
    "df[\"Age in Yrs\"].value_counts().plot(kind='pie', title='Age in Yrs',figsize=(10,5))\n",
    "plt.show()"
   ]
  },
  {
   "cell_type": "code",
   "execution_count": 23,
   "id": "3771e2f6",
   "metadata": {},
   "outputs": [
    {
     "data": {
      "image/png": "[encoded data removed]",
      "text/plain": [
       "<Figure size 720x360 with 1 Axes>"
      ]
     },
     "metadata": {},
     "output_type": "display_data"
    }
   ],
   "source": [
    "df[\"Age in Company (Years)\"].value_counts().plot(kind='pie', title='Age in Company (Years)',figsize=(10,5))\n",
    "plt.show()"
   ]
  },
  {
   "cell_type": "code",
   "execution_count": 24,
   "id": "a11939b7",
   "metadata": {},
   "outputs": [
    {
     "data": {
      "image/png": "[encoded data removed]",
      "text/plain": [
       "<Figure size 720x360 with 1 Axes>"
      ]
     },
     "metadata": {},
     "output_type": "display_data"
    }
   ],
   "source": [
    "df[\"Region\"].value_counts().plot(kind='pie', title='Region',figsize=(10,5))\n",
    "plt.show()"
   ]
  },
  {
   "cell_type": "code",
   "execution_count": 25,
   "id": "35e27ad8",
   "metadata": {},
   "outputs": [
    {
     "name": "stderr",
     "output_type": "stream",
     "text": [
      "C:\\Users\\91799\\anaconda3\\lib\\site-packages\\seaborn\\_decorators.py:36: FutureWarning: Pass the following variable as a keyword arg: x. From version 0.12, the only valid positional argument will be `data`, and passing other arguments without an explicit keyword will result in an error or misinterpretation.\n",
      "  warnings.warn(\n"
     ]
    },
    {
     "data": {
      "image/png": "[encoded data removed]",
      "text/plain": [
       "<Figure size 864x648 with 1 Axes>"
      ]
     },
     "metadata": {
      "needs_background": "light"
     },
     "output_type": "display_data"
    }
   ],
   "source": [
    "plt.figure(figsize=(12,9))\n",
    "plt.title(\"Salary vs Gender\")\n",
    "sns.scatterplot(df[\"Salary\"],y=df[\"Gender\"],hue=df[\"Gender\"],s=30,palette=\"husl\")\n",
    "plt.show()"
   ]
  },
  {
   "cell_type": "code",
   "execution_count": 26,
   "id": "f7cea698",
   "metadata": {},
   "outputs": [
    {
     "name": "stderr",
     "output_type": "stream",
     "text": [
      "C:\\Users\\91799\\anaconda3\\lib\\site-packages\\seaborn\\_decorators.py:36: FutureWarning: Pass the following variable as a keyword arg: x. From version 0.12, the only valid positional argument will be `data`, and passing other arguments without an explicit keyword will result in an error or misinterpretation.\n",
      "  warnings.warn(\n"
     ]
    },
    {
     "data": {
      "image/png": "[encoded data removed]",
      "text/plain": [
       "<Figure size 864x648 with 1 Axes>"
      ]
     },
     "metadata": {
      "needs_background": "light"
     },
     "output_type": "display_data"
    }
   ],
   "source": [
    "plt.figure(figsize=(12,9))\n",
    "plt.title(\"Age in Company (Years) vs Gender\")\n",
    "sns.scatterplot(df[\"Age in Company (Years)\"],y=df[\"Gender\"],hue=df[\"Gender\"],s=30,palette=\"husl\")\n",
    "plt.show()"
   ]
  },
  {
   "cell_type": "code",
   "execution_count": 27,
   "id": "d9cff7da",
   "metadata": {},
   "outputs": [
    {
     "name": "stderr",
     "output_type": "stream",
     "text": [
      "C:\\Users\\91799\\anaconda3\\lib\\site-packages\\seaborn\\_decorators.py:36: FutureWarning: Pass the following variable as a keyword arg: x. From version 0.12, the only valid positional argument will be `data`, and passing other arguments without an explicit keyword will result in an error or misinterpretation.\n",
      "  warnings.warn(\n"
     ]
    },
    {
     "data": {
      "image/png": "[encoded data removed]",
      "text/plain": [
       "<Figure size 864x648 with 1 Axes>"
      ]
     },
     "metadata": {
      "needs_background": "light"
     },
     "output_type": "display_data"
    }
   ],
   "source": [
    "plt.figure(figsize=(12,9))\n",
    "plt.title(\"Region vs Gender\")\n",
    "sns.scatterplot(df[\"Region\"],y=df[\"Gender\"],hue=df[\"Gender\"],s=30,palette=\"husl\")\n",
    "plt.show()"
   ]
  },
  {
   "cell_type": "code",
   "execution_count": 28,
   "id": "54ed5a45",
   "metadata": {},
   "outputs": [
    {
     "name": "stderr",
     "output_type": "stream",
     "text": [
      "C:\\Users\\91799\\anaconda3\\lib\\site-packages\\seaborn\\_decorators.py:36: FutureWarning: Pass the following variable as a keyword arg: x. From version 0.12, the only valid positional argument will be `data`, and passing other arguments without an explicit keyword will result in an error or misinterpretation.\n",
      "  warnings.warn(\n"
     ]
    },
    {
     "data": {
      "image/png": "[encoded data removed]",
      "text/plain": [
       "<Figure size 864x648 with 1 Axes>"
      ]
     },
     "metadata": {
      "needs_background": "light"
     },
     "output_type": "display_data"
    }
   ],
   "source": [
    "plt.figure(figsize=(12,9))\n",
    "plt.title(\"Region vs Salary\")\n",
    "sns.scatterplot(df[\"Region\"],y=df[\"Salary\"],hue=df[\"Salary\"],s=30,palette=\"husl\")\n",
    "plt.show()"
   ]
  },
  {
   "cell_type": "code",
   "execution_count": 29,
   "id": "591dd448",
   "metadata": {},
   "outputs": [
    {
     "name": "stderr",
     "output_type": "stream",
     "text": [
      "<ipython-input-29-3520d4ee1b5c>:2: SettingWithCopyWarning: \n",
      "A value is trying to be set on a copy of a slice from a DataFrame.\n",
      "Try using .loc[row_indexer,col_indexer] = value instead\n",
      "\n",
      "See the caveats in the documentation: https://pandas.pydata.org/pandas-docs/stable/user_guide/indexing.html#returning-a-view-versus-a-copy\n",
      "  df['Gender'] = LabelEncoder().fit_transform(df['Gender'])\n"
     ]
    },
    {
     "data": {
      "text/plain": [
       "0    24498\n",
       "1    24116\n",
       "Name: Gender, dtype: int64"
      ]
     },
     "execution_count": 29,
     "metadata": {},
     "output_type": "execute_result"
    }
   ],
   "source": [
    "from sklearn.preprocessing import LabelEncoder\n",
    "df['Gender'] = LabelEncoder().fit_transform(df['Gender'])\n",
    "df['Gender'].value_counts()"
   ]
  },
  {
   "cell_type": "code",
   "execution_count": 30,
   "id": "bf640ada",
   "metadata": {},
   "outputs": [
    {
     "name": "stderr",
     "output_type": "stream",
     "text": [
      "<ipython-input-30-a10c971ce6f4>:2: SettingWithCopyWarning: \n",
      "A value is trying to be set on a copy of a slice from a DataFrame.\n",
      "Try using .loc[row_indexer,col_indexer] = value instead\n",
      "\n",
      "See the caveats in the documentation: https://pandas.pydata.org/pandas-docs/stable/user_guide/indexing.html#returning-a-view-versus-a-copy\n",
      "  df['Name Prefix'] = LabelEncoder().fit_transform(df['Name Prefix'])\n"
     ]
    },
    {
     "data": {
      "text/plain": [
       "3    16877\n",
       "5    10877\n",
       "4     8141\n",
       "2     5099\n",
       "1     2725\n",
       "0     2469\n",
       "6     2426\n",
       "Name: Name Prefix, dtype: int64"
      ]
     },
     "execution_count": 30,
     "metadata": {},
     "output_type": "execute_result"
    }
   ],
   "source": [
    "from sklearn.preprocessing import LabelEncoder\n",
    "df['Name Prefix'] = LabelEncoder().fit_transform(df['Name Prefix'])\n",
    "df['Name Prefix'].value_counts()"
   ]
  },
  {
   "cell_type": "code",
   "execution_count": 31,
   "id": "c90cde7c",
   "metadata": {},
   "outputs": [
    {
     "name": "stderr",
     "output_type": "stream",
     "text": [
      "<ipython-input-31-d82c4173ab86>:2: SettingWithCopyWarning: \n",
      "A value is trying to be set on a copy of a slice from a DataFrame.\n",
      "Try using .loc[row_indexer,col_indexer] = value instead\n",
      "\n",
      "See the caveats in the documentation: https://pandas.pydata.org/pandas-docs/stable/user_guide/indexing.html#returning-a-view-versus-a-copy\n",
      "  df['First Name'] = LabelEncoder().fit_transform(df['First Name'])\n"
     ]
    },
    {
     "data": {
      "text/plain": [
       "134     40\n",
       "735     40\n",
       "14      40\n",
       "2962    39\n",
       "4081    39\n",
       "        ..\n",
       "2924     1\n",
       "1931     1\n",
       "4785     1\n",
       "1646     1\n",
       "2613     1\n",
       "Name: First Name, Length: 5152, dtype: int64"
      ]
     },
     "execution_count": 31,
     "metadata": {},
     "output_type": "execute_result"
    }
   ],
   "source": [
    "from sklearn.preprocessing import LabelEncoder\n",
    "df['First Name'] = LabelEncoder().fit_transform(df['First Name'])\n",
    "df['First Name'].value_counts()"
   ]
  },
  {
   "cell_type": "code",
   "execution_count": 32,
   "id": "d6996d9b",
   "metadata": {},
   "outputs": [
    {
     "name": "stderr",
     "output_type": "stream",
     "text": [
      "<ipython-input-32-b9f022dab64f>:2: SettingWithCopyWarning: \n",
      "A value is trying to be set on a copy of a slice from a DataFrame.\n",
      "Try using .loc[row_indexer,col_indexer] = value instead\n",
      "\n",
      "See the caveats in the documentation: https://pandas.pydata.org/pandas-docs/stable/user_guide/indexing.html#returning-a-view-versus-a-copy\n",
      "  df['Country'] = LabelEncoder().fit_transform(df['Country'])\n"
     ]
    },
    {
     "data": {
      "text/plain": [
       "1093    566\n",
       "1298    560\n",
       "2314    559\n",
       "1478    452\n",
       "1635    424\n",
       "       ... \n",
       "1335      1\n",
       "1271      1\n",
       "2184      1\n",
       "2312      1\n",
       "0         1\n",
       "Name: Country, Length: 2438, dtype: int64"
      ]
     },
     "execution_count": 32,
     "metadata": {},
     "output_type": "execute_result"
    }
   ],
   "source": [
    "from sklearn.preprocessing import LabelEncoder\n",
    "df['Country'] = LabelEncoder().fit_transform(df['Country'])\n",
    "df['Country'].value_counts()"
   ]
  },
  {
   "cell_type": "code",
   "execution_count": 33,
   "id": "d0ec15e2",
   "metadata": {},
   "outputs": [
    {
     "name": "stderr",
     "output_type": "stream",
     "text": [
      "<ipython-input-33-7a6f8b42f56c>:2: SettingWithCopyWarning: \n",
      "A value is trying to be set on a copy of a slice from a DataFrame.\n",
      "Try using .loc[row_indexer,col_indexer] = value instead\n",
      "\n",
      "See the caveats in the documentation: https://pandas.pydata.org/pandas-docs/stable/user_guide/indexing.html#returning-a-view-versus-a-copy\n",
      "  df['Region'] = LabelEncoder().fit_transform(df['Region'])\n"
     ]
    },
    {
     "data": {
      "text/plain": [
       "2    18138\n",
       "0    13279\n",
       "3     8638\n",
       "1     8559\n",
       "Name: Region, dtype: int64"
      ]
     },
     "execution_count": 33,
     "metadata": {},
     "output_type": "execute_result"
    }
   ],
   "source": [
    "from sklearn.preprocessing import LabelEncoder\n",
    "df['Region'] = LabelEncoder().fit_transform(df['Region'])\n",
    "df['Region'].value_counts()"
   ]
  },
  {
   "cell_type": "code",
   "execution_count": 34,
   "id": "d44014e9",
   "metadata": {},
   "outputs": [
    {
     "data": {
      "text/plain": [
       "Emp ID                     int64\n",
       "Name Prefix                int32\n",
       "First Name                 int32\n",
       "Gender                     int32\n",
       "Age in Yrs                 int64\n",
       "Date of Joining           object\n",
       "Age in Company (Years)     int64\n",
       "Country                    int32\n",
       "Region                     int32\n",
       "Salary                     int64\n",
       "dtype: object"
      ]
     },
     "execution_count": 34,
     "metadata": {},
     "output_type": "execute_result"
    }
   ],
   "source": [
    "df.dtypes"
   ]
  },
  {
   "cell_type": "code",
   "execution_count": 35,
   "id": "1423a5d6",
   "metadata": {},
   "outputs": [
    {
     "name": "stderr",
     "output_type": "stream",
     "text": [
      "<ipython-input-35-52b3270ebf25>:1: SettingWithCopyWarning: \n",
      "A value is trying to be set on a copy of a slice from a DataFrame.\n",
      "Try using .loc[row_indexer,col_indexer] = value instead\n",
      "\n",
      "See the caveats in the documentation: https://pandas.pydata.org/pandas-docs/stable/user_guide/indexing.html#returning-a-view-versus-a-copy\n",
      "  df['Date of Joining'] = pd.to_datetime(df['Date of Joining'])\n"
     ]
    },
    {
     "data": {
      "text/plain": [
       "0       2014-09-09\n",
       "1       2011-08-02\n",
       "2       2012-04-01\n",
       "3       1998-03-19\n",
       "4       2010-01-04\n",
       "           ...    \n",
       "49994   2006-06-10\n",
       "49995   2017-06-22\n",
       "49996   2007-10-28\n",
       "49997   2012-12-25\n",
       "49998   2013-10-06\n",
       "Name: Date of Joining, Length: 48614, dtype: datetime64[ns]"
      ]
     },
     "execution_count": 35,
     "metadata": {},
     "output_type": "execute_result"
    }
   ],
   "source": [
    "df['Date of Joining'] = pd.to_datetime(df['Date of Joining'])\n",
    "df['Date of Joining'] "
   ]
  },
  {
   "cell_type": "code",
   "execution_count": 36,
   "id": "ccc91ebe",
   "metadata": {},
   "outputs": [
    {
     "data": {
      "text/plain": [
       "0        2014\n",
       "1        2011\n",
       "2        2012\n",
       "3        1998\n",
       "4        2010\n",
       "         ... \n",
       "49994    2006\n",
       "49995    2017\n",
       "49996    2007\n",
       "49997    2012\n",
       "49998    2013\n",
       "Name: Date of Joining, Length: 48614, dtype: int64"
      ]
     },
     "execution_count": 36,
     "metadata": {},
     "output_type": "execute_result"
    }
   ],
   "source": [
    "df['Date of Joining'] .dt.year"
   ]
  },
  {
   "cell_type": "code",
   "execution_count": 37,
   "id": "78f2691f",
   "metadata": {},
   "outputs": [
    {
     "data": {
      "text/plain": [
       "0         9\n",
       "1         8\n",
       "2         4\n",
       "3         3\n",
       "4         1\n",
       "         ..\n",
       "49994     6\n",
       "49995     6\n",
       "49996    10\n",
       "49997    12\n",
       "49998    10\n",
       "Name: Date of Joining, Length: 48614, dtype: int64"
      ]
     },
     "execution_count": 37,
     "metadata": {},
     "output_type": "execute_result"
    }
   ],
   "source": [
    "df['Date of Joining'] .dt.month"
   ]
  },
  {
   "cell_type": "code",
   "execution_count": 38,
   "id": "f184d180",
   "metadata": {},
   "outputs": [
    {
     "data": {
      "text/plain": [
       "0         9\n",
       "1         2\n",
       "2         1\n",
       "3        19\n",
       "4         4\n",
       "         ..\n",
       "49994    10\n",
       "49995    22\n",
       "49996    28\n",
       "49997    25\n",
       "49998     6\n",
       "Name: Date of Joining, Length: 48614, dtype: int64"
      ]
     },
     "execution_count": 38,
     "metadata": {},
     "output_type": "execute_result"
    }
   ],
   "source": [
    "df['Date of Joining'] .dt.day"
   ]
  },
  {
   "cell_type": "code",
   "execution_count": 39,
   "id": "417b001a",
   "metadata": {},
   "outputs": [
    {
     "name": "stderr",
     "output_type": "stream",
     "text": [
      "<ipython-input-39-36c07b375502>:1: SettingWithCopyWarning: \n",
      "A value is trying to be set on a copy of a slice from a DataFrame.\n",
      "Try using .loc[row_indexer,col_indexer] = value instead\n",
      "\n",
      "See the caveats in the documentation: https://pandas.pydata.org/pandas-docs/stable/user_guide/indexing.html#returning-a-view-versus-a-copy\n",
      "  df['year']=df['Date of Joining'] .dt.year\n",
      "<ipython-input-39-36c07b375502>:2: SettingWithCopyWarning: \n",
      "A value is trying to be set on a copy of a slice from a DataFrame.\n",
      "Try using .loc[row_indexer,col_indexer] = value instead\n",
      "\n",
      "See the caveats in the documentation: https://pandas.pydata.org/pandas-docs/stable/user_guide/indexing.html#returning-a-view-versus-a-copy\n",
      "  df['month']=df['Date of Joining'] .dt.month\n",
      "<ipython-input-39-36c07b375502>:3: SettingWithCopyWarning: \n",
      "A value is trying to be set on a copy of a slice from a DataFrame.\n",
      "Try using .loc[row_indexer,col_indexer] = value instead\n",
      "\n",
      "See the caveats in the documentation: https://pandas.pydata.org/pandas-docs/stable/user_guide/indexing.html#returning-a-view-versus-a-copy\n",
      "  df['day']=df['Date of Joining'] .dt.day\n"
     ]
    },
    {
     "data": {
      "text/html": [
       "<div>\n",
       "<style scoped>\n",
       "    .dataframe tbody tr th:only-of-type {\n",
       "        vertical-align: middle;\n",
       "    }\n",
       "\n",
       "    .dataframe tbody tr th {\n",
       "        vertical-align: top;\n",
       "    }\n",
       "\n",
       "    .dataframe thead th {\n",
       "        text-align: right;\n",
       "    }\n",
       "</style>\n",
       "<table border=\"1\" class=\"dataframe\">\n",
       "  <thead>\n",
       "    <tr style=\"text-align: right;\">\n",
       "      <th></th>\n",
       "      <th>Emp ID</th>\n",
       "      <th>Name Prefix</th>\n",
       "      <th>First Name</th>\n",
       "      <th>Gender</th>\n",
       "      <th>Age in Yrs</th>\n",
       "      <th>Date of Joining</th>\n",
       "      <th>Age in Company (Years)</th>\n",
       "      <th>Country</th>\n",
       "      <th>Region</th>\n",
       "      <th>Salary</th>\n",
       "      <th>year</th>\n",
       "      <th>month</th>\n",
       "      <th>day</th>\n",
       "    </tr>\n",
       "  </thead>\n",
       "  <tbody>\n",
       "    <tr>\n",
       "      <th>0</th>\n",
       "      <td>857211</td>\n",
       "      <td>5</td>\n",
       "      <td>1947</td>\n",
       "      <td>0</td>\n",
       "      <td>24</td>\n",
       "      <td>2014-09-09</td>\n",
       "      <td>2</td>\n",
       "      <td>464</td>\n",
       "      <td>2</td>\n",
       "      <td>168991</td>\n",
       "      <td>2014</td>\n",
       "      <td>9</td>\n",
       "      <td>9</td>\n",
       "    </tr>\n",
       "    <tr>\n",
       "      <th>1</th>\n",
       "      <td>514341</td>\n",
       "      <td>3</td>\n",
       "      <td>275</td>\n",
       "      <td>1</td>\n",
       "      <td>27</td>\n",
       "      <td>2011-08-02</td>\n",
       "      <td>5</td>\n",
       "      <td>1970</td>\n",
       "      <td>2</td>\n",
       "      <td>53504</td>\n",
       "      <td>2011</td>\n",
       "      <td>8</td>\n",
       "      <td>2</td>\n",
       "    </tr>\n",
       "    <tr>\n",
       "      <th>2</th>\n",
       "      <td>314598</td>\n",
       "      <td>6</td>\n",
       "      <td>4278</td>\n",
       "      <td>1</td>\n",
       "      <td>36</td>\n",
       "      <td>2012-04-01</td>\n",
       "      <td>5</td>\n",
       "      <td>1093</td>\n",
       "      <td>1</td>\n",
       "      <td>158859</td>\n",
       "      <td>2012</td>\n",
       "      <td>4</td>\n",
       "      <td>1</td>\n",
       "    </tr>\n",
       "    <tr>\n",
       "      <th>3</th>\n",
       "      <td>987773</td>\n",
       "      <td>3</td>\n",
       "      <td>81</td>\n",
       "      <td>1</td>\n",
       "      <td>43</td>\n",
       "      <td>1998-03-19</td>\n",
       "      <td>19</td>\n",
       "      <td>1441</td>\n",
       "      <td>2</td>\n",
       "      <td>76105</td>\n",
       "      <td>1998</td>\n",
       "      <td>3</td>\n",
       "      <td>19</td>\n",
       "    </tr>\n",
       "    <tr>\n",
       "      <th>4</th>\n",
       "      <td>690850</td>\n",
       "      <td>3</td>\n",
       "      <td>4004</td>\n",
       "      <td>1</td>\n",
       "      <td>50</td>\n",
       "      <td>2010-01-04</td>\n",
       "      <td>7</td>\n",
       "      <td>900</td>\n",
       "      <td>0</td>\n",
       "      <td>134436</td>\n",
       "      <td>2010</td>\n",
       "      <td>1</td>\n",
       "      <td>4</td>\n",
       "    </tr>\n",
       "    <tr>\n",
       "      <th>...</th>\n",
       "      <td>...</td>\n",
       "      <td>...</td>\n",
       "      <td>...</td>\n",
       "      <td>...</td>\n",
       "      <td>...</td>\n",
       "      <td>...</td>\n",
       "      <td>...</td>\n",
       "      <td>...</td>\n",
       "      <td>...</td>\n",
       "      <td>...</td>\n",
       "      <td>...</td>\n",
       "      <td>...</td>\n",
       "      <td>...</td>\n",
       "    </tr>\n",
       "    <tr>\n",
       "      <th>49994</th>\n",
       "      <td>174392</td>\n",
       "      <td>5</td>\n",
       "      <td>3208</td>\n",
       "      <td>0</td>\n",
       "      <td>55</td>\n",
       "      <td>2006-06-10</td>\n",
       "      <td>11</td>\n",
       "      <td>308</td>\n",
       "      <td>2</td>\n",
       "      <td>173154</td>\n",
       "      <td>2006</td>\n",
       "      <td>6</td>\n",
       "      <td>10</td>\n",
       "    </tr>\n",
       "    <tr>\n",
       "      <th>49995</th>\n",
       "      <td>955700</td>\n",
       "      <td>5</td>\n",
       "      <td>4202</td>\n",
       "      <td>0</td>\n",
       "      <td>36</td>\n",
       "      <td>2017-06-22</td>\n",
       "      <td>1</td>\n",
       "      <td>801</td>\n",
       "      <td>0</td>\n",
       "      <td>111738</td>\n",
       "      <td>2017</td>\n",
       "      <td>6</td>\n",
       "      <td>22</td>\n",
       "    </tr>\n",
       "    <tr>\n",
       "      <th>49996</th>\n",
       "      <td>811811</td>\n",
       "      <td>5</td>\n",
       "      <td>4150</td>\n",
       "      <td>0</td>\n",
       "      <td>41</td>\n",
       "      <td>2007-10-28</td>\n",
       "      <td>9</td>\n",
       "      <td>1953</td>\n",
       "      <td>0</td>\n",
       "      <td>191991</td>\n",
       "      <td>2007</td>\n",
       "      <td>10</td>\n",
       "      <td>28</td>\n",
       "    </tr>\n",
       "    <tr>\n",
       "      <th>49997</th>\n",
       "      <td>365602</td>\n",
       "      <td>5</td>\n",
       "      <td>2507</td>\n",
       "      <td>0</td>\n",
       "      <td>37</td>\n",
       "      <td>2012-12-25</td>\n",
       "      <td>4</td>\n",
       "      <td>1431</td>\n",
       "      <td>1</td>\n",
       "      <td>173216</td>\n",
       "      <td>2012</td>\n",
       "      <td>12</td>\n",
       "      <td>25</td>\n",
       "    </tr>\n",
       "    <tr>\n",
       "      <th>49998</th>\n",
       "      <td>504521</td>\n",
       "      <td>5</td>\n",
       "      <td>971</td>\n",
       "      <td>0</td>\n",
       "      <td>38</td>\n",
       "      <td>2013-10-06</td>\n",
       "      <td>3</td>\n",
       "      <td>629</td>\n",
       "      <td>2</td>\n",
       "      <td>153592</td>\n",
       "      <td>2013</td>\n",
       "      <td>10</td>\n",
       "      <td>6</td>\n",
       "    </tr>\n",
       "  </tbody>\n",
       "</table>\n",
       "<p>48614 rows × 13 columns</p>\n",
       "</div>"
      ],
      "text/plain": [
       "       Emp ID  Name Prefix  First Name  Gender  Age in Yrs Date of Joining  \\\n",
       "0      857211            5        1947       0          24      2014-09-09   \n",
       "1      514341            3         275       1          27      2011-08-02   \n",
       "2      314598            6        4278       1          36      2012-04-01   \n",
       "3      987773            3          81       1          43      1998-03-19   \n",
       "4      690850            3        4004       1          50      2010-01-04   \n",
       "...       ...          ...         ...     ...         ...             ...   \n",
       "49994  174392            5        3208       0          55      2006-06-10   \n",
       "49995  955700            5        4202       0          36      2017-06-22   \n",
       "49996  811811            5        4150       0          41      2007-10-28   \n",
       "49997  365602            5        2507       0          37      2012-12-25   \n",
       "49998  504521            5         971       0          38      2013-10-06   \n",
       "\n",
       "       Age in Company (Years)  Country  Region  Salary  year  month  day  \n",
       "0                           2      464       2  168991  2014      9    9  \n",
       "1                           5     1970       2   53504  2011      8    2  \n",
       "2                           5     1093       1  158859  2012      4    1  \n",
       "3                          19     1441       2   76105  1998      3   19  \n",
       "4                           7      900       0  134436  2010      1    4  \n",
       "...                       ...      ...     ...     ...   ...    ...  ...  \n",
       "49994                      11      308       2  173154  2006      6   10  \n",
       "49995                       1      801       0  111738  2017      6   22  \n",
       "49996                       9     1953       0  191991  2007     10   28  \n",
       "49997                       4     1431       1  173216  2012     12   25  \n",
       "49998                       3      629       2  153592  2013     10    6  \n",
       "\n",
       "[48614 rows x 13 columns]"
      ]
     },
     "execution_count": 39,
     "metadata": {},
     "output_type": "execute_result"
    }
   ],
   "source": [
    "df['year']=df['Date of Joining'] .dt.year\n",
    "df['month']=df['Date of Joining'] .dt.month\n",
    "df['day']=df['Date of Joining'] .dt.day\n",
    "df"
   ]
  },
  {
   "cell_type": "code",
   "execution_count": 40,
   "id": "b37bd77d",
   "metadata": {},
   "outputs": [
    {
     "data": {
      "text/plain": [
       "Emp ID                             int64\n",
       "Name Prefix                        int32\n",
       "First Name                         int32\n",
       "Gender                             int32\n",
       "Age in Yrs                         int64\n",
       "Date of Joining           datetime64[ns]\n",
       "Age in Company (Years)             int64\n",
       "Country                            int32\n",
       "Region                             int32\n",
       "Salary                             int64\n",
       "year                               int64\n",
       "month                              int64\n",
       "day                                int64\n",
       "dtype: object"
      ]
     },
     "execution_count": 40,
     "metadata": {},
     "output_type": "execute_result"
    }
   ],
   "source": [
    "df.dtypes"
   ]
  },
  {
   "cell_type": "code",
   "execution_count": 41,
   "id": "1b3418f4",
   "metadata": {},
   "outputs": [
    {
     "name": "stderr",
     "output_type": "stream",
     "text": [
      "C:\\Users\\91799\\anaconda3\\lib\\site-packages\\pandas\\core\\frame.py:4308: SettingWithCopyWarning: \n",
      "A value is trying to be set on a copy of a slice from a DataFrame\n",
      "\n",
      "See the caveats in the documentation: https://pandas.pydata.org/pandas-docs/stable/user_guide/indexing.html#returning-a-view-versus-a-copy\n",
      "  return super().drop(\n"
     ]
    }
   ],
   "source": [
    "df.drop(columns=[\"Date of Joining\"],axis=1,inplace=True)"
   ]
  },
  {
   "cell_type": "code",
   "execution_count": 42,
   "id": "de997049",
   "metadata": {},
   "outputs": [
    {
     "data": {
      "text/plain": [
       "Emp ID                    int64\n",
       "Name Prefix               int32\n",
       "First Name                int32\n",
       "Gender                    int32\n",
       "Age in Yrs                int64\n",
       "Age in Company (Years)    int64\n",
       "Country                   int32\n",
       "Region                    int32\n",
       "Salary                    int64\n",
       "year                      int64\n",
       "month                     int64\n",
       "day                       int64\n",
       "dtype: object"
      ]
     },
     "execution_count": 42,
     "metadata": {},
     "output_type": "execute_result"
    }
   ],
   "source": [
    "df.dtypes"
   ]
  },
  {
   "cell_type": "code",
   "execution_count": 43,
   "id": "5fd0ba33",
   "metadata": {},
   "outputs": [
    {
     "data": {
      "image/png": "[encoded data removed]",
      "text/plain": [
       "<Figure size 432x288 with 1 Axes>"
      ]
     },
     "metadata": {
      "needs_background": "light"
     },
     "output_type": "display_data"
    },
    {
     "name": "stdout",
     "output_type": "stream",
     "text": [
      "Q1:  333251.0 \n",
      "Q2:  556747.0 \n",
      "Q3:  777397.0\n",
      "IQR:  444146.0\n",
      "Lower limit is :  -332968.0\n",
      "Upper limit is :  1443616.0\n",
      "Outliers in the fare feature are :  []\n"
     ]
    },
    {
     "name": "stderr",
     "output_type": "stream",
     "text": [
      "C:\\Users\\91799\\anaconda3\\lib\\site-packages\\pandas\\core\\frame.py:4308: SettingWithCopyWarning: \n",
      "A value is trying to be set on a copy of a slice from a DataFrame\n",
      "\n",
      "See the caveats in the documentation: https://pandas.pydata.org/pandas-docs/stable/user_guide/indexing.html#returning-a-view-versus-a-copy\n",
      "  return super().drop(\n"
     ]
    }
   ],
   "source": [
    "plt.boxplot(df['Emp ID'])\n",
    "plt.show()\n",
    "\n",
    "Q1 = np.percentile(df['Emp ID'],25,interpolation='midpoint')\n",
    "Q2 = np.percentile(df['Emp ID'],50,interpolation='midpoint')\n",
    "Q3 = np.percentile(df['Emp ID'],75,interpolation='midpoint')\n",
    "print('Q1: ',Q1,'\\nQ2: ',Q2,'\\nQ3: ',Q3)\n",
    "\n",
    "IQR = Q3 - Q1\n",
    "print('IQR: ',IQR)\n",
    "\n",
    "low_lm = Q1-1.5*IQR\n",
    "upp_lm = Q3+1.5*IQR\n",
    "print(\"Lower limit is : \",low_lm)\n",
    "print(\"Upper limit is : \",upp_lm)\n",
    "\n",
    "outliers = []\n",
    "for i in df['Emp ID']:\n",
    "  if((i>upp_lm)or(i<low_lm)):\n",
    "    outliers.append(i)\n",
    "\n",
    "print(\"Outliers in the fare feature are : \",outliers)\n",
    "\n",
    "indx1 = df['Emp ID']>upp_lm\n",
    "outlier_index = df.loc[indx1].index\n",
    "outlier_index\n",
    "\n",
    "df.drop(outlier_index, inplace=True)"
   ]
  },
  {
   "cell_type": "code",
   "execution_count": 44,
   "id": "02204b8e",
   "metadata": {},
   "outputs": [
    {
     "data": {
      "image/png": "[encoded data removed]",
      "text/plain": [
       "<Figure size 432x288 with 1 Axes>"
      ]
     },
     "metadata": {
      "needs_background": "light"
     },
     "output_type": "display_data"
    }
   ],
   "source": [
    "plt.boxplot(df['Name Prefix'])\n",
    "plt.show()"
   ]
  },
  {
   "cell_type": "code",
   "execution_count": 45,
   "id": "ecc292bb",
   "metadata": {},
   "outputs": [
    {
     "data": {
      "image/png": "[encoded data removed]",
      "text/plain": [
       "<Figure size 432x288 with 1 Axes>"
      ]
     },
     "metadata": {
      "needs_background": "light"
     },
     "output_type": "display_data"
    }
   ],
   "source": [
    "plt.boxplot(df['First Name'])\n",
    "plt.show()"
   ]
  },
  {
   "cell_type": "code",
   "execution_count": 46,
   "id": "973fa6b7",
   "metadata": {},
   "outputs": [
    {
     "data": {
      "image/png": "[encoded data removed]",
      "text/plain": [
       "<Figure size 432x288 with 1 Axes>"
      ]
     },
     "metadata": {
      "needs_background": "light"
     },
     "output_type": "display_data"
    }
   ],
   "source": [
    "plt.boxplot(df['Gender'])\n",
    "plt.show()"
   ]
  },
  {
   "cell_type": "code",
   "execution_count": 47,
   "id": "a6c00bc3",
   "metadata": {},
   "outputs": [
    {
     "data": {
      "image/png": "[encoded data removed]",
      "text/plain": [
       "<Figure size 432x288 with 1 Axes>"
      ]
     },
     "metadata": {
      "needs_background": "light"
     },
     "output_type": "display_data"
    }
   ],
   "source": [
    "plt.boxplot(df['Age in Yrs'])\n",
    "plt.show()"
   ]
  },
  {
   "cell_type": "code",
   "execution_count": 48,
   "id": "13214391",
   "metadata": {},
   "outputs": [
    {
     "data": {
      "image/png": "[encoded data removed]",
      "text/plain": [
       "<Figure size 432x288 with 1 Axes>"
      ]
     },
     "metadata": {
      "needs_background": "light"
     },
     "output_type": "display_data"
    }
   ],
   "source": [
    "plt.boxplot(df['Age in Company (Years)'])\n",
    "plt.show()"
   ]
  },
  {
   "cell_type": "code",
   "execution_count": 49,
   "id": "83545609",
   "metadata": {},
   "outputs": [
    {
     "name": "stdout",
     "output_type": "stream",
     "text": [
      "Q1:  2.0 \n",
      "Q2:  7.0 \n",
      "Q3:  14.0\n",
      "IQR:  12.0\n",
      "Lower limit is :  -16.0\n",
      "Upper limit is :  32.0\n",
      "Outliers in the fare feature are :  [35, 33, 37, 35, 33, 34, 36, 36, 37, 33, 33, 33, 36, 33, 33, 33, 36, 38, 35, 33, 34, 34, 37, 34, 35, 37, 35, 34, 34, 35, 34, 33, 34, 35, 33, 35, 36, 34, 37, 35, 35, 35, 34, 34, 35, 37, 35, 38, 33, 34, 34, 33, 33, 33, 36, 35, 35, 34, 35, 35, 35, 34, 35, 33, 33, 33, 33, 34, 36, 36, 33, 35, 34, 36, 33, 36, 34, 33, 33, 33, 38, 33, 35, 33, 35, 33, 33, 35, 35, 34, 35, 34, 34, 33, 33, 34, 35, 37, 36, 33, 37, 34, 35, 34, 33, 34, 35, 37, 34, 34, 37, 38, 34, 33, 37, 38, 35, 34, 36, 35, 35, 34, 34, 34, 35, 33, 34, 34, 34, 35, 34, 34, 36, 34, 33, 34, 35, 36, 33, 36, 33, 33, 35, 34, 36, 34, 33, 35, 35, 35, 33, 33, 35, 36, 36, 33, 35, 33, 33, 34, 35, 34, 33, 38, 33, 33, 34, 35, 34, 33, 35, 33, 36, 33, 36, 35, 36, 33, 33, 33, 34, 34, 33, 37, 35, 34, 37, 35, 33, 37, 36, 35, 33, 34, 34, 38, 36, 34, 35, 37, 33, 36, 33, 35, 34, 34, 36, 34, 37, 35, 35, 34, 36, 33, 34, 33, 34, 34, 36, 34, 34, 34, 33, 33, 35, 37, 36, 34, 35, 37, 34, 34, 34, 33, 34, 35, 33, 34, 35, 36, 33, 35, 35, 34, 35, 35, 33, 36, 38, 38, 35, 34, 35, 35, 33, 34, 34, 36, 34, 33, 35, 33, 38, 37, 33, 36, 36, 36, 37, 33, 33, 36, 34, 35, 37, 35, 33, 36, 33, 37, 35, 33, 36, 34, 36, 34, 33, 34, 33, 34, 34, 33, 35, 34, 33, 33, 33, 35, 36, 34, 36, 34, 34, 33, 34, 33, 38, 37, 36, 36, 36, 35, 34, 33, 33, 36, 35, 34, 36, 33, 34, 34, 35, 33, 35, 36, 35, 34, 34, 36, 34, 36, 35, 33, 38, 34, 35, 35, 36, 34, 34, 33, 35, 34, 34, 34, 36, 33, 36, 33, 36, 34, 35, 35, 33, 33, 33, 35, 34, 35, 36, 38, 35, 33, 36, 34, 36, 35, 33, 34, 36, 37, 34, 35, 34, 34, 35, 34, 33, 34, 37, 36, 35, 36, 36, 33, 34, 33, 34, 35, 36, 35, 35, 33, 33, 33, 34, 35, 36, 34, 33, 34, 35, 33, 33, 33, 33, 35, 33, 36, 34, 33, 33, 38, 35, 34, 36, 33, 34, 35, 36, 33, 34, 34, 33, 34, 35, 35, 35, 37, 38, 34, 36, 34, 33, 33, 35, 37, 34, 35, 33, 34, 35, 33, 34, 36, 37, 33, 34, 37, 34, 37, 34, 35, 33, 35, 33, 36, 34, 33, 34, 33, 35, 35, 33, 33, 34, 34, 37, 35, 36, 34, 34, 33, 38, 34, 33, 34, 34, 36, 33, 35, 33, 38, 37, 35, 35, 36, 33, 34, 36, 34, 34, 33, 37, 33, 33, 36, 33, 35, 37, 33, 34, 34, 34, 36, 34, 33, 35, 35, 36, 33, 35, 37, 35, 34, 36, 33, 33, 33, 37, 33, 34, 35, 33, 37, 33, 33, 33, 37, 33, 35, 34, 33, 33, 37, 35, 36, 35, 35, 34, 36, 35, 36, 33, 36, 34, 33, 33, 34, 37, 37, 38, 33, 34, 34, 36, 35, 34, 34, 34, 35, 33, 33, 34, 35, 33, 33, 33]\n"
     ]
    },
    {
     "name": "stderr",
     "output_type": "stream",
     "text": [
      "C:\\Users\\91799\\anaconda3\\lib\\site-packages\\pandas\\core\\frame.py:4308: SettingWithCopyWarning: \n",
      "A value is trying to be set on a copy of a slice from a DataFrame\n",
      "\n",
      "See the caveats in the documentation: https://pandas.pydata.org/pandas-docs/stable/user_guide/indexing.html#returning-a-view-versus-a-copy\n",
      "  return super().drop(\n"
     ]
    },
    {
     "data": {
      "image/png": "[encoded data removed]",
      "text/plain": [
       "<Figure size 432x288 with 1 Axes>"
      ]
     },
     "metadata": {
      "needs_background": "light"
     },
     "output_type": "display_data"
    }
   ],
   "source": [
    "Q1 = np.percentile(df['Age in Company (Years)'],25,interpolation='midpoint')\n",
    "Q2 = np.percentile(df['Age in Company (Years)'],50,interpolation='midpoint')\n",
    "Q3 = np.percentile(df['Age in Company (Years)'],75,interpolation='midpoint')\n",
    "print('Q1: ',Q1,'\\nQ2: ',Q2,'\\nQ3: ',Q3)\n",
    "\n",
    "IQR = Q3 - Q1\n",
    "print('IQR: ',IQR)\n",
    "\n",
    "low_lm = Q1-1.5*IQR\n",
    "upp_lm = Q3+1.5*IQR\n",
    "print(\"Lower limit is : \",low_lm)\n",
    "print(\"Upper limit is : \",upp_lm)\n",
    "\n",
    "outliers = []\n",
    "for i in df['Age in Company (Years)']:\n",
    "  if((i>upp_lm)or(i<low_lm)):\n",
    "    outliers.append(i)\n",
    "\n",
    "print(\"Outliers in the fare feature are : \",outliers)\n",
    "\n",
    "indx1 = df['Age in Company (Years)']>upp_lm\n",
    "outlier_index = df.loc[indx1].index\n",
    "outlier_index\n",
    "\n",
    "df.drop(outlier_index, inplace=True)\n",
    "\n",
    "plt.boxplot(df['Age in Company (Years)'])\n",
    "plt.show()"
   ]
  },
  {
   "cell_type": "code",
   "execution_count": 50,
   "id": "7456f2b3",
   "metadata": {},
   "outputs": [
    {
     "data": {
      "image/png": "[encoded data removed]",
      "text/plain": [
       "<Figure size 432x288 with 1 Axes>"
      ]
     },
     "metadata": {
      "needs_background": "light"
     },
     "output_type": "display_data"
    }
   ],
   "source": [
    "plt.boxplot(df['Country'])\n",
    "plt.show()"
   ]
  },
  {
   "cell_type": "code",
   "execution_count": 51,
   "id": "eab3cf71",
   "metadata": {},
   "outputs": [
    {
     "data": {
      "image/png": "[encoded data removed]",
      "text/plain": [
       "<Figure size 432x288 with 1 Axes>"
      ]
     },
     "metadata": {
      "needs_background": "light"
     },
     "output_type": "display_data"
    }
   ],
   "source": [
    "plt.boxplot(df['Region'])\n",
    "plt.show()"
   ]
  },
  {
   "cell_type": "code",
   "execution_count": 52,
   "id": "0d9dddbd",
   "metadata": {},
   "outputs": [
    {
     "data": {
      "image/png": "[encoded data removed]",
      "text/plain": [
       "<Figure size 432x288 with 1 Axes>"
      ]
     },
     "metadata": {
      "needs_background": "light"
     },
     "output_type": "display_data"
    }
   ],
   "source": [
    "plt.boxplot(df['Salary'])\n",
    "plt.show()"
   ]
  },
  {
   "cell_type": "code",
   "execution_count": 53,
   "id": "f5448fb5",
   "metadata": {},
   "outputs": [
    {
     "data": {
      "image/png": "[encoded data removed]",
      "text/plain": [
       "<Figure size 432x288 with 1 Axes>"
      ]
     },
     "metadata": {
      "needs_background": "light"
     },
     "output_type": "display_data"
    }
   ],
   "source": [
    "plt.boxplot(df['year'])\n",
    "plt.show()"
   ]
  },
  {
   "cell_type": "code",
   "execution_count": 54,
   "id": "116c427b",
   "metadata": {},
   "outputs": [
    {
     "name": "stdout",
     "output_type": "stream",
     "text": [
      "Q1:  2003.0 \n",
      "Q2:  2010.0 \n",
      "Q3:  2014.0\n",
      "IQR:  11.0\n",
      "Lower limit is :  1986.5\n",
      "Upper limit is :  2030.5\n",
      "Outliers in the fare feature are :  [1986, 1984, 1985, 1986, 1984, 1986, 1985, 1986, 1984, 1985, 1986, 1986, 1986, 1986, 1986, 1986, 1986, 1985, 1985, 1985, 1986, 1986, 1986, 1986, 1984, 1986, 1985, 1985, 1986, 1985, 1985, 1985, 1986, 1986, 1986, 1986, 1986, 1986, 1985, 1986, 1986, 1986, 1986, 1985, 1986, 1985, 1985, 1985, 1986, 1985, 1985, 1985, 1985, 1985, 1985, 1986, 1984, 1985, 1986, 1985, 1985, 1986, 1986, 1985, 1985, 1985, 1985, 1986, 1984, 1985, 1986, 1984, 1984, 1985, 1984, 1985, 1986, 1985, 1986, 1986, 1985, 1985, 1985, 1986, 1986, 1985, 1985, 1986, 1986, 1985, 1985, 1985, 1986, 1985, 1986, 1986, 1985, 1984, 1986, 1986, 1986, 1986, 1986, 1986, 1985, 1986, 1986, 1985, 1986, 1985, 1986, 1986, 1984, 1986, 1986, 1984, 1985, 1986, 1985, 1985, 1986, 1986, 1985, 1984, 1986, 1985, 1985, 1986, 1986, 1986, 1986, 1984, 1986, 1986, 1985, 1986, 1986, 1986, 1986, 1986, 1984, 1986, 1984, 1986, 1986, 1985, 1986, 1986, 1986, 1985, 1985, 1986, 1985, 1986, 1986, 1985, 1985, 1986, 1985, 1986, 1986, 1986, 1986, 1986, 1985, 1985, 1985, 1984, 1985, 1986, 1986, 1986, 1985, 1985, 1986, 1985, 1984, 1986, 1986, 1985, 1986, 1985, 1985, 1986, 1985, 1984, 1986, 1986, 1985, 1985, 1985, 1986, 1984, 1986, 1985, 1986, 1984, 1986, 1985, 1986, 1986, 1986, 1986, 1985, 1985, 1985, 1986, 1986, 1984, 1984, 1985, 1984, 1986, 1986, 1986, 1986, 1986, 1985, 1986, 1986, 1986, 1985, 1986, 1985, 1984, 1984, 1985, 1986, 1985, 1986, 1985, 1986, 1985, 1986, 1986, 1986, 1985, 1984, 1985, 1985, 1984, 1984, 1985, 1986, 1985, 1985, 1985, 1986, 1985, 1985, 1984, 1984, 1986, 1985, 1986, 1985, 1986, 1986, 1986, 1984, 1985, 1986, 1986, 1986, 1986, 1986, 1985, 1986, 1985, 1985, 1985, 1985, 1986, 1986, 1986, 1985, 1985, 1985, 1985, 1986, 1985, 1985, 1986, 1985, 1986, 1984, 1985, 1986, 1985, 1986, 1986, 1986, 1985, 1984, 1986, 1986, 1986, 1986, 1986, 1985, 1986, 1986, 1985, 1986, 1985, 1984, 1984, 1985, 1985, 1986, 1985, 1985, 1984, 1985, 1986, 1986, 1986, 1985, 1986, 1986, 1986, 1986, 1986, 1986, 1985, 1985, 1985, 1985, 1984, 1984, 1986, 1985, 1985, 1984, 1986, 1986, 1986, 1985, 1986, 1986, 1986, 1984, 1985, 1985, 1985, 1986, 1985, 1985, 1985, 1985, 1986, 1985, 1986, 1986, 1986, 1986, 1985, 1986, 1985, 1986, 1986, 1986, 1986, 1986, 1985, 1985, 1986, 1985, 1986, 1986, 1986, 1984, 1986, 1986, 1986, 1984, 1985, 1984, 1985, 1986, 1986, 1986, 1986, 1986, 1985, 1986, 1985, 1984, 1986, 1986, 1986, 1984, 1985, 1985, 1985, 1985, 1985, 1986, 1986, 1985, 1985, 1985, 1984, 1986, 1986, 1985, 1985, 1985, 1986, 1984, 1985, 1986, 1984, 1985, 1985, 1984, 1986, 1984, 1985, 1984, 1985, 1986, 1986, 1984, 1986, 1986, 1985, 1986, 1985, 1985, 1986, 1984, 1985, 1985, 1986, 1986, 1985, 1985, 1985, 1986, 1985, 1985, 1986, 1986, 1986, 1985, 1986, 1986, 1986, 1986, 1986, 1984, 1984, 1985, 1985, 1985, 1986, 1986, 1985, 1986, 1986, 1984, 1985, 1985, 1986, 1986, 1985, 1985, 1985, 1984, 1984, 1986, 1985, 1986, 1985, 1985, 1985, 1985, 1985, 1985, 1986, 1985, 1985, 1986, 1986, 1986, 1985, 1986, 1985, 1985, 1985, 1985, 1986, 1986, 1985, 1985, 1985, 1984, 1986, 1985, 1986, 1986, 1984, 1985, 1985, 1985, 1986, 1986, 1986, 1986, 1986, 1985, 1986, 1986, 1985, 1986, 1986, 1984, 1985, 1986, 1986, 1986, 1985, 1986, 1986, 1985, 1984, 1986, 1986, 1986, 1985, 1986, 1986, 1985, 1984, 1986, 1984, 1984, 1986, 1985, 1986, 1986, 1985, 1985, 1984, 1986, 1986, 1986, 1984, 1984, 1985, 1985, 1986, 1986, 1986, 1985, 1984, 1984, 1985, 1986, 1985, 1985, 1986, 1985, 1986, 1985, 1986, 1986, 1985, 1985, 1985, 1985, 1984, 1986, 1986, 1986, 1985]\n"
     ]
    },
    {
     "name": "stderr",
     "output_type": "stream",
     "text": [
      "C:\\Users\\91799\\anaconda3\\lib\\site-packages\\pandas\\core\\frame.py:4308: SettingWithCopyWarning: \n",
      "A value is trying to be set on a copy of a slice from a DataFrame\n",
      "\n",
      "See the caveats in the documentation: https://pandas.pydata.org/pandas-docs/stable/user_guide/indexing.html#returning-a-view-versus-a-copy\n",
      "  return super().drop(\n"
     ]
    }
   ],
   "source": [
    "Q1 = np.percentile(df['year'],25,interpolation='midpoint')\n",
    "Q2 = np.percentile(df['year'],50,interpolation='midpoint')\n",
    "Q3 = np.percentile(df['year'],75,interpolation='midpoint')\n",
    "print('Q1: ',Q1,'\\nQ2: ',Q2,'\\nQ3: ',Q3)\n",
    "\n",
    "IQR = Q3 - Q1\n",
    "print('IQR: ',IQR)\n",
    "\n",
    "low_lm = Q1-1.5*IQR\n",
    "upp_lm = Q3+1.5*IQR\n",
    "print(\"Lower limit is : \",low_lm)\n",
    "print(\"Upper limit is : \",upp_lm)\n",
    "\n",
    "outliers = []\n",
    "for i in df['year']:\n",
    "  if((i>upp_lm)or(i<low_lm)):\n",
    "    outliers.append(i)\n",
    "\n",
    "print(\"Outliers in the fare feature are : \",outliers)\n",
    "\n",
    "indx1 = df['year']>upp_lm\n",
    "outlier_index = df.loc[indx1].index\n",
    "outlier_index\n",
    "\n",
    "df.drop(outlier_index, inplace=True)"
   ]
  },
  {
   "cell_type": "code",
   "execution_count": 55,
   "id": "b3e25f93",
   "metadata": {},
   "outputs": [
    {
     "data": {
      "image/png": "[encoded data removed]",
      "text/plain": [
       "<Figure size 432x288 with 1 Axes>"
      ]
     },
     "metadata": {
      "needs_background": "light"
     },
     "output_type": "display_data"
    }
   ],
   "source": [
    "plt.boxplot(df['year'])\n",
    "plt.show()"
   ]
  },
  {
   "cell_type": "code",
   "execution_count": 56,
   "id": "47d3b82e",
   "metadata": {},
   "outputs": [
    {
     "data": {
      "image/png": "[encoded data removed]",
      "text/plain": [
       "<Figure size 432x288 with 1 Axes>"
      ]
     },
     "metadata": {
      "needs_background": "light"
     },
     "output_type": "display_data"
    }
   ],
   "source": [
    "plt.boxplot(df['month'])\n",
    "plt.show()"
   ]
  },
  {
   "cell_type": "code",
   "execution_count": 57,
   "id": "33e6eb41",
   "metadata": {},
   "outputs": [
    {
     "data": {
      "image/png": "[encoded data removed]",
      "text/plain": [
       "<Figure size 432x288 with 1 Axes>"
      ]
     },
     "metadata": {
      "needs_background": "light"
     },
     "output_type": "display_data"
    }
   ],
   "source": [
    "plt.boxplot(df['day'])\n",
    "plt.show()"
   ]
  },
  {
   "cell_type": "code",
   "execution_count": 59,
   "id": "6ea2672e",
   "metadata": {},
   "outputs": [
    {
     "data": {
      "text/plain": [
       "(5000, 12)"
      ]
     },
     "execution_count": 59,
     "metadata": {},
     "output_type": "execute_result"
    }
   ],
   "source": [
    "sample_df=df.sample(n=5000,replace='False')\n",
    "sample_df.shape"
   ]
  },
  {
   "cell_type": "code",
   "execution_count": 60,
   "id": "da30c6e4",
   "metadata": {},
   "outputs": [
    {
     "data": {
      "text/html": [
       "<div>\n",
       "<style scoped>\n",
       "    .dataframe tbody tr th:only-of-type {\n",
       "        vertical-align: middle;\n",
       "    }\n",
       "\n",
       "    .dataframe tbody tr th {\n",
       "        vertical-align: top;\n",
       "    }\n",
       "\n",
       "    .dataframe thead th {\n",
       "        text-align: right;\n",
       "    }\n",
       "</style>\n",
       "<table border=\"1\" class=\"dataframe\">\n",
       "  <thead>\n",
       "    <tr style=\"text-align: right;\">\n",
       "      <th></th>\n",
       "      <th>Emp ID</th>\n",
       "      <th>Name Prefix</th>\n",
       "      <th>First Name</th>\n",
       "      <th>Gender</th>\n",
       "      <th>Age in Yrs</th>\n",
       "      <th>Age in Company (Years)</th>\n",
       "      <th>Country</th>\n",
       "      <th>Region</th>\n",
       "      <th>Salary</th>\n",
       "      <th>year</th>\n",
       "      <th>month</th>\n",
       "      <th>day</th>\n",
       "    </tr>\n",
       "  </thead>\n",
       "  <tbody>\n",
       "    <tr>\n",
       "      <th>34488</th>\n",
       "      <td>583032</td>\n",
       "      <td>6</td>\n",
       "      <td>49</td>\n",
       "      <td>1</td>\n",
       "      <td>53</td>\n",
       "      <td>29</td>\n",
       "      <td>2224</td>\n",
       "      <td>2</td>\n",
       "      <td>161357</td>\n",
       "      <td>1988</td>\n",
       "      <td>7</td>\n",
       "      <td>12</td>\n",
       "    </tr>\n",
       "    <tr>\n",
       "      <th>7430</th>\n",
       "      <td>313027</td>\n",
       "      <td>4</td>\n",
       "      <td>509</td>\n",
       "      <td>0</td>\n",
       "      <td>42</td>\n",
       "      <td>4</td>\n",
       "      <td>1806</td>\n",
       "      <td>0</td>\n",
       "      <td>122092</td>\n",
       "      <td>2012</td>\n",
       "      <td>12</td>\n",
       "      <td>24</td>\n",
       "    </tr>\n",
       "    <tr>\n",
       "      <th>19960</th>\n",
       "      <td>116808</td>\n",
       "      <td>0</td>\n",
       "      <td>1111</td>\n",
       "      <td>1</td>\n",
       "      <td>43</td>\n",
       "      <td>9</td>\n",
       "      <td>33</td>\n",
       "      <td>0</td>\n",
       "      <td>88686</td>\n",
       "      <td>2007</td>\n",
       "      <td>12</td>\n",
       "      <td>11</td>\n",
       "    </tr>\n",
       "    <tr>\n",
       "      <th>37053</th>\n",
       "      <td>820001</td>\n",
       "      <td>4</td>\n",
       "      <td>4005</td>\n",
       "      <td>0</td>\n",
       "      <td>48</td>\n",
       "      <td>1</td>\n",
       "      <td>83</td>\n",
       "      <td>1</td>\n",
       "      <td>114695</td>\n",
       "      <td>2016</td>\n",
       "      <td>11</td>\n",
       "      <td>21</td>\n",
       "    </tr>\n",
       "    <tr>\n",
       "      <th>35907</th>\n",
       "      <td>290185</td>\n",
       "      <td>3</td>\n",
       "      <td>2082</td>\n",
       "      <td>1</td>\n",
       "      <td>52</td>\n",
       "      <td>16</td>\n",
       "      <td>1602</td>\n",
       "      <td>1</td>\n",
       "      <td>111789</td>\n",
       "      <td>2001</td>\n",
       "      <td>6</td>\n",
       "      <td>24</td>\n",
       "    </tr>\n",
       "    <tr>\n",
       "      <th>20925</th>\n",
       "      <td>383708</td>\n",
       "      <td>6</td>\n",
       "      <td>61</td>\n",
       "      <td>1</td>\n",
       "      <td>54</td>\n",
       "      <td>31</td>\n",
       "      <td>1429</td>\n",
       "      <td>2</td>\n",
       "      <td>161163</td>\n",
       "      <td>1986</td>\n",
       "      <td>5</td>\n",
       "      <td>15</td>\n",
       "    </tr>\n",
       "    <tr>\n",
       "      <th>37595</th>\n",
       "      <td>592290</td>\n",
       "      <td>5</td>\n",
       "      <td>284</td>\n",
       "      <td>0</td>\n",
       "      <td>48</td>\n",
       "      <td>19</td>\n",
       "      <td>1727</td>\n",
       "      <td>2</td>\n",
       "      <td>49136</td>\n",
       "      <td>1997</td>\n",
       "      <td>11</td>\n",
       "      <td>26</td>\n",
       "    </tr>\n",
       "    <tr>\n",
       "      <th>22596</th>\n",
       "      <td>619931</td>\n",
       "      <td>3</td>\n",
       "      <td>2404</td>\n",
       "      <td>1</td>\n",
       "      <td>35</td>\n",
       "      <td>8</td>\n",
       "      <td>69</td>\n",
       "      <td>0</td>\n",
       "      <td>97921</td>\n",
       "      <td>2009</td>\n",
       "      <td>3</td>\n",
       "      <td>1</td>\n",
       "    </tr>\n",
       "    <tr>\n",
       "      <th>44199</th>\n",
       "      <td>410123</td>\n",
       "      <td>3</td>\n",
       "      <td>3983</td>\n",
       "      <td>1</td>\n",
       "      <td>49</td>\n",
       "      <td>28</td>\n",
       "      <td>246</td>\n",
       "      <td>3</td>\n",
       "      <td>139706</td>\n",
       "      <td>1989</td>\n",
       "      <td>7</td>\n",
       "      <td>31</td>\n",
       "    </tr>\n",
       "    <tr>\n",
       "      <th>26843</th>\n",
       "      <td>176356</td>\n",
       "      <td>5</td>\n",
       "      <td>1833</td>\n",
       "      <td>0</td>\n",
       "      <td>36</td>\n",
       "      <td>2</td>\n",
       "      <td>189</td>\n",
       "      <td>1</td>\n",
       "      <td>84268</td>\n",
       "      <td>2014</td>\n",
       "      <td>12</td>\n",
       "      <td>28</td>\n",
       "    </tr>\n",
       "  </tbody>\n",
       "</table>\n",
       "</div>"
      ],
      "text/plain": [
       "       Emp ID  Name Prefix  First Name  Gender  Age in Yrs  \\\n",
       "34488  583032            6          49       1          53   \n",
       "7430   313027            4         509       0          42   \n",
       "19960  116808            0        1111       1          43   \n",
       "37053  820001            4        4005       0          48   \n",
       "35907  290185            3        2082       1          52   \n",
       "20925  383708            6          61       1          54   \n",
       "37595  592290            5         284       0          48   \n",
       "22596  619931            3        2404       1          35   \n",
       "44199  410123            3        3983       1          49   \n",
       "26843  176356            5        1833       0          36   \n",
       "\n",
       "       Age in Company (Years)  Country  Region  Salary  year  month  day  \n",
       "34488                      29     2224       2  161357  1988      7   12  \n",
       "7430                        4     1806       0  122092  2012     12   24  \n",
       "19960                       9       33       0   88686  2007     12   11  \n",
       "37053                       1       83       1  114695  2016     11   21  \n",
       "35907                      16     1602       1  111789  2001      6   24  \n",
       "20925                      31     1429       2  161163  1986      5   15  \n",
       "37595                      19     1727       2   49136  1997     11   26  \n",
       "22596                       8       69       0   97921  2009      3    1  \n",
       "44199                      28      246       3  139706  1989      7   31  \n",
       "26843                       2      189       1   84268  2014     12   28  "
      ]
     },
     "execution_count": 60,
     "metadata": {},
     "output_type": "execute_result"
    }
   ],
   "source": [
    "sample_df.head(10)"
   ]
  },
  {
   "cell_type": "code",
   "execution_count": 61,
   "id": "7caea773",
   "metadata": {},
   "outputs": [],
   "source": [
    "x=sample_df.drop(labels='Salary',axis=1)\n",
    "y=sample_df['Salary']"
   ]
  },
  {
   "cell_type": "code",
   "execution_count": 62,
   "id": "89556465",
   "metadata": {},
   "outputs": [],
   "source": [
    "df  = pd.concat([x,y], axis = 1)"
   ]
  },
  {
   "cell_type": "code",
   "execution_count": 63,
   "id": "de87125c",
   "metadata": {},
   "outputs": [
    {
     "data": {
      "image/png": "[encoded data removed]",
      "text/plain": [
       "<Figure size 720x360 with 2 Axes>"
      ]
     },
     "metadata": {
      "needs_background": "light"
     },
     "output_type": "display_data"
    }
   ],
   "source": [
    "plt.figure(figsize= (10,5))\n",
    "sns.heatmap(x.corr(), annot = True, cmap=\"winter\")\n",
    "plt.show()"
   ]
  },
  {
   "cell_type": "code",
   "execution_count": 64,
   "id": "0cd82781",
   "metadata": {},
   "outputs": [],
   "source": [
    "from sklearn.preprocessing import StandardScaler\n",
    "scale = StandardScaler()\n",
    "x_transform = scale.fit_transform(x)"
   ]
  },
  {
   "cell_type": "code",
   "execution_count": 65,
   "id": "5f5f4263",
   "metadata": {},
   "outputs": [],
   "source": [
    "from sklearn.model_selection import train_test_split\n",
    "x_train,x_test,y_train,y_test = train_test_split(x,y, test_size = 0.3, random_state=42)"
   ]
  },
  {
   "cell_type": "markdown",
   "id": "fd27e06c",
   "metadata": {},
   "source": [
    "# MODELS"
   ]
  },
  {
   "cell_type": "markdown",
   "id": "2a88ca2d",
   "metadata": {},
   "source": [
    "# DecisionTreeClassifier"
   ]
  },
  {
   "cell_type": "code",
   "execution_count": 67,
   "id": "02e7b754",
   "metadata": {},
   "outputs": [],
   "source": [
    "from sklearn.tree import DecisionTreeClassifier\n",
    "dt=DecisionTreeClassifier(criterion='entropy')\n",
    "dt.fit(x_train,y_train)\n",
    "dt_pred=dt.predict(x_test)"
   ]
  },
  {
   "cell_type": "code",
   "execution_count": 68,
   "id": "519afd6d",
   "metadata": {},
   "outputs": [
    {
     "name": "stdout",
     "output_type": "stream",
     "text": [
      "accuracy_score: 0.074\n",
      "precision_score: 0.06335555555555555\n",
      "f1_score: 0.06637777777777777\n",
      "recall_score: 0.074\n",
      "confusion_matrix\n",
      ": [[0 0 0 ... 0 0 0]\n",
      " [0 0 0 ... 0 0 0]\n",
      " [0 0 0 ... 0 0 0]\n",
      " ...\n",
      " [0 0 0 ... 0 0 0]\n",
      " [0 0 0 ... 0 0 0]\n",
      " [0 0 0 ... 0 0 0]]\n"
     ]
    },
    {
     "name": "stderr",
     "output_type": "stream",
     "text": [
      "C:\\Users\\91799\\anaconda3\\lib\\site-packages\\sklearn\\metrics\\_classification.py:1318: UndefinedMetricWarning: Precision is ill-defined and being set to 0.0 in labels with no predicted samples. Use `zero_division` parameter to control this behavior.\n",
      "  _warn_prf(average, modifier, msg_start, len(result))\n",
      "C:\\Users\\91799\\anaconda3\\lib\\site-packages\\sklearn\\metrics\\_classification.py:1318: UndefinedMetricWarning: Recall is ill-defined and being set to 0.0 in labels with no true samples. Use `zero_division` parameter to control this behavior.\n",
      "  _warn_prf(average, modifier, msg_start, len(result))\n"
     ]
    }
   ],
   "source": [
    "from sklearn.metrics import accuracy_score,precision_score,f1_score,recall_score,confusion_matrix\n",
    "print('accuracy_score:',accuracy_score(y_test,dt_pred))\n",
    "print('precision_score:',precision_score(y_test,dt_pred,average='weighted'))\n",
    "print('f1_score:',f1_score(y_test,dt_pred,average='weighted'))\n",
    "print('recall_score:',recall_score(y_test,dt_pred,average='weighted'))\n",
    "print('confusion_matrix\\n:',confusion_matrix(y_test,dt_pred))"
   ]
  },
  {
   "cell_type": "markdown",
   "id": "93aeb1fa",
   "metadata": {},
   "source": [
    "# SVM"
   ]
  },
  {
   "cell_type": "code",
   "execution_count": 69,
   "id": "b0f9b879",
   "metadata": {},
   "outputs": [],
   "source": [
    "from sklearn.svm import SVC\n",
    "svm=SVC(kernel='rbf')\n",
    "svm.fit(x_train,y_train)\n",
    "svm_pred=svm.predict(x_test)"
   ]
  },
  {
   "cell_type": "code",
   "execution_count": 70,
   "id": "e272ec88",
   "metadata": {},
   "outputs": [
    {
     "name": "stdout",
     "output_type": "stream",
     "text": [
      "accuracy_score: 0.0\n",
      "precision_score: 0.0\n",
      "f1_score: 0.0\n",
      "recall_score: 0.0\n"
     ]
    },
    {
     "name": "stderr",
     "output_type": "stream",
     "text": [
      "C:\\Users\\91799\\anaconda3\\lib\\site-packages\\sklearn\\metrics\\_classification.py:1318: UndefinedMetricWarning: Precision is ill-defined and being set to 0.0 in labels with no predicted samples. Use `zero_division` parameter to control this behavior.\n",
      "  _warn_prf(average, modifier, msg_start, len(result))\n",
      "C:\\Users\\91799\\anaconda3\\lib\\site-packages\\sklearn\\metrics\\_classification.py:1318: UndefinedMetricWarning: Recall is ill-defined and being set to 0.0 in labels with no true samples. Use `zero_division` parameter to control this behavior.\n",
      "  _warn_prf(average, modifier, msg_start, len(result))\n"
     ]
    }
   ],
   "source": [
    "print('accuracy_score:',accuracy_score(y_test,svm_pred))\n",
    "print('precision_score:',precision_score(y_test,svm_pred,average='weighted'))\n",
    "print('f1_score:',f1_score(y_test,svm_pred,average='weighted'))\n",
    "print('recall_score:',recall_score(y_test,svm_pred,average='weighted'))"
   ]
  },
  {
   "cell_type": "markdown",
   "id": "ad64a32a",
   "metadata": {},
   "source": [
    "# LogisticRegression"
   ]
  },
  {
   "cell_type": "code",
   "execution_count": 71,
   "id": "ed25bb0e",
   "metadata": {},
   "outputs": [
    {
     "name": "stderr",
     "output_type": "stream",
     "text": [
      "C:\\Users\\91799\\anaconda3\\lib\\site-packages\\sklearn\\utils\\optimize.py:210: ConvergenceWarning: newton-cg failed to converge. Increase the number of iterations.\n",
      "  warnings.warn(\n"
     ]
    }
   ],
   "source": [
    "from sklearn.linear_model import LogisticRegression\n",
    "lnr = LogisticRegression(multi_class='multinomial', solver='newton-cg')\n",
    "lnr.fit(x_train, y_train)\n",
    "lnr_pred = lnr.predict(x_test)"
   ]
  },
  {
   "cell_type": "code",
   "execution_count": 72,
   "id": "9db5aa94",
   "metadata": {},
   "outputs": [
    {
     "name": "stdout",
     "output_type": "stream",
     "text": [
      "accuracy_score: 0.04133333333333333\n",
      "precision_score: 0.03408730158730159\n",
      "f1_score: 0.03607777777777777\n",
      "recall_score: 0.04133333333333333\n",
      "Confusion Matrix = \n",
      " [[0 0 0 ... 0 0 0]\n",
      " [0 0 0 ... 0 0 0]\n",
      " [0 0 0 ... 0 0 0]\n",
      " ...\n",
      " [0 0 0 ... 0 0 0]\n",
      " [0 0 0 ... 0 0 0]\n",
      " [0 0 0 ... 0 0 0]]\n"
     ]
    },
    {
     "name": "stderr",
     "output_type": "stream",
     "text": [
      "C:\\Users\\91799\\anaconda3\\lib\\site-packages\\sklearn\\metrics\\_classification.py:1318: UndefinedMetricWarning: Precision is ill-defined and being set to 0.0 in labels with no predicted samples. Use `zero_division` parameter to control this behavior.\n",
      "  _warn_prf(average, modifier, msg_start, len(result))\n",
      "C:\\Users\\91799\\anaconda3\\lib\\site-packages\\sklearn\\metrics\\_classification.py:1318: UndefinedMetricWarning: Recall is ill-defined and being set to 0.0 in labels with no true samples. Use `zero_division` parameter to control this behavior.\n",
      "  _warn_prf(average, modifier, msg_start, len(result))\n"
     ]
    }
   ],
   "source": [
    "print('accuracy_score:',accuracy_score(y_test,lnr_pred))\n",
    "print('precision_score:',precision_score(y_test,lnr_pred,average='weighted'))\n",
    "print('f1_score:',f1_score(y_test,lnr_pred,average='weighted'))\n",
    "print('recall_score:',recall_score(y_test,lnr_pred,average='weighted'))\n",
    "print('Confusion Matrix = \\n', confusion_matrix(y_test, lnr_pred))"
   ]
  },
  {
   "cell_type": "markdown",
   "id": "3865fdb3",
   "metadata": {},
   "source": [
    "# RandomForest"
   ]
  },
  {
   "cell_type": "code",
   "execution_count": 73,
   "id": "46242040",
   "metadata": {},
   "outputs": [],
   "source": [
    "from sklearn.ensemble import RandomForestClassifier\n",
    "rf=RandomForestClassifier()\n",
    "rf.fit(x_train,y_train)\n",
    "rf_pred=rf.predict(x_test)"
   ]
  },
  {
   "cell_type": "code",
   "execution_count": 74,
   "id": "76b8fa64",
   "metadata": {},
   "outputs": [
    {
     "name": "stdout",
     "output_type": "stream",
     "text": [
      "accuracy_score: 0.074\n",
      "precision_score: 0.05794444444444444\n",
      "f1_score: 0.06293333333333334\n",
      "recall_score: 0.074\n"
     ]
    },
    {
     "name": "stderr",
     "output_type": "stream",
     "text": [
      "C:\\Users\\91799\\anaconda3\\lib\\site-packages\\sklearn\\metrics\\_classification.py:1318: UndefinedMetricWarning: Precision is ill-defined and being set to 0.0 in labels with no predicted samples. Use `zero_division` parameter to control this behavior.\n",
      "  _warn_prf(average, modifier, msg_start, len(result))\n",
      "C:\\Users\\91799\\anaconda3\\lib\\site-packages\\sklearn\\metrics\\_classification.py:1318: UndefinedMetricWarning: Recall is ill-defined and being set to 0.0 in labels with no true samples. Use `zero_division` parameter to control this behavior.\n",
      "  _warn_prf(average, modifier, msg_start, len(result))\n"
     ]
    }
   ],
   "source": [
    "print('accuracy_score:',accuracy_score(y_test,rf_pred))\n",
    "print('precision_score:',precision_score(y_test,rf_pred,average='weighted'))\n",
    "print('f1_score:',f1_score(y_test,rf_pred,average='weighted'))\n",
    "print('recall_score:',recall_score(y_test,rf_pred,average='weighted'))\n"
   ]
  },
  {
   "cell_type": "code",
   "execution_count": 75,
   "id": "e20f2ec8",
   "metadata": {},
   "outputs": [
    {
     "name": "stdout",
     "output_type": "stream",
     "text": [
      "Confusion Matrix = \n",
      " [[0 0 0 ... 0 0 0]\n",
      " [0 0 0 ... 0 0 0]\n",
      " [0 0 0 ... 0 0 0]\n",
      " ...\n",
      " [0 0 0 ... 0 0 0]\n",
      " [0 0 0 ... 0 0 0]\n",
      " [0 0 0 ... 0 0 0]]\n"
     ]
    }
   ],
   "source": [
    "print('Confusion Matrix = \\n', confusion_matrix(y_test, rf_pred))"
   ]
  },
  {
   "cell_type": "markdown",
   "id": "b0cdd85e",
   "metadata": {},
   "source": [
    "# LinearRegression"
   ]
  },
  {
   "cell_type": "code",
   "execution_count": 76,
   "id": "b8ffbcf3",
   "metadata": {},
   "outputs": [],
   "source": [
    "from sklearn.linear_model import LinearRegression\n",
    "linear=LinearRegression()\n",
    "linear.fit(x_train,y_train)\n",
    "linear_pred=linear.predict(x_test)"
   ]
  },
  {
   "cell_type": "code",
   "execution_count": 77,
   "id": "b9b73d40",
   "metadata": {},
   "outputs": [],
   "source": [
    "from sklearn.metrics import mean_squared_error\n",
    "from sklearn.metrics import mean_absolute_error"
   ]
  },
  {
   "cell_type": "code",
   "execution_count": 78,
   "id": "4df0d7c1",
   "metadata": {},
   "outputs": [
    {
     "name": "stdout",
     "output_type": "stream",
     "text": [
      "mean_absolute_error: 38753.30729681806\n",
      "mean_squared_error: 2034037352.1066682\n",
      "mean root squared error: 45100.3032374137\n"
     ]
    }
   ],
   "source": [
    "print('mean_absolute_error:',mean_absolute_error(y_test,linear_pred))\n",
    "print('mean_squared_error:',mean_squared_error(y_test,linear_pred))\n",
    "print('mean root squared error:',np.sqrt(mean_squared_error(y_test,linear_pred)))"
   ]
  },
  {
   "cell_type": "markdown",
   "id": "7205433e",
   "metadata": {},
   "source": [
    "# Naive Bayes"
   ]
  },
  {
   "cell_type": "code",
   "execution_count": 79,
   "id": "38a25aab",
   "metadata": {},
   "outputs": [
    {
     "name": "stdout",
     "output_type": "stream",
     "text": [
      "[181314 165875  47888 ... 157500 181314  96916]\n"
     ]
    }
   ],
   "source": [
    "from sklearn.naive_bayes import GaussianNB\n",
    "naivebayes=GaussianNB()\n",
    "naivebayes.fit(x_train,y_train)\n",
    "naivebayes=naivebayes.predict(x_test)\n",
    "print(naivebayes)"
   ]
  },
  {
   "cell_type": "code",
   "execution_count": 80,
   "id": "c17cd974",
   "metadata": {},
   "outputs": [
    {
     "name": "stdout",
     "output_type": "stream",
     "text": [
      "              precision    recall  f1-score   support\n",
      "\n",
      "       40005       0.00      0.00      0.00         1\n",
      "       40171       0.00      0.00      0.00         1\n",
      "       40225       0.00      0.00      0.00         1\n",
      "       40236       0.00      0.00      0.00         1\n",
      "       40275       0.00      0.00      0.00         1\n",
      "       40294       0.00      0.00      0.00         1\n",
      "       40354       0.00      0.00      0.00         1\n",
      "       41007       0.00      0.00      0.00         1\n",
      "       41019       0.00      0.00      0.00         1\n",
      "       41020       0.00      0.00      0.00         1\n",
      "       41172       0.00      0.00      0.00         1\n",
      "       41537       0.00      0.00      0.00         1\n",
      "       41627       0.00      0.00      0.00         1\n",
      "       41742       0.00      0.00      0.00         1\n",
      "       41797       1.00      1.00      1.00         1\n",
      "       42108       0.00      0.00      0.00         1\n",
      "       42155       0.00      0.00      0.00         1\n",
      "       42215       0.00      0.00      0.00         1\n",
      "       42308       0.00      0.00      0.00         1\n",
      "       42353       0.00      0.00      0.00         2\n",
      "       42431       0.00      0.00      0.00         1\n",
      "       42462       0.00      0.00      0.00         1\n",
      "       42659       0.00      0.00      0.00         1\n",
      "       42687       0.00      0.00      0.00         1\n",
      "       42725       0.00      0.00      0.00         1\n",
      "       42762       0.00      0.00      0.00         1\n",
      "       42775       0.00      0.00      0.00         1\n",
      "       42782       1.00      1.00      1.00         1\n",
      "       42957       0.00      0.00      0.00         1\n",
      "       42996       0.00      0.00      0.00         1\n",
      "       43049       0.00      0.00      0.00         1\n",
      "       43052       0.00      0.00      0.00         1\n",
      "       43154       0.00      0.00      0.00         1\n",
      "       43214       0.00      0.00      0.00         1\n",
      "       43254       0.00      0.00      0.00         1\n",
      "       43430       0.00      0.00      0.00         1\n",
      "       43564       0.00      0.00      0.00         1\n",
      "       43793       0.00      0.00      0.00         1\n",
      "       43875       0.00      0.00      0.00         1\n",
      "       43903       0.00      0.00      0.00         1\n",
      "       44085       0.00      0.00      0.00         1\n",
      "       44095       0.00      0.00      0.00         1\n",
      "       44152       1.00      1.00      1.00         1\n",
      "       44268       0.00      0.00      0.00         1\n",
      "       44372       0.00      0.00      0.00         1\n",
      "       44854       0.00      0.00      0.00         1\n",
      "       44996       0.00      0.00      0.00         1\n",
      "       45146       0.00      0.00      0.00         1\n",
      "       45147       0.00      0.00      0.00         1\n",
      "       45394       1.00      1.00      1.00         1\n",
      "       45404       0.00      0.00      0.00         1\n",
      "       45914       0.00      0.00      0.00         1\n",
      "       46029       0.00      0.00      0.00         1\n",
      "       46166       0.00      0.00      0.00         1\n",
      "       46268       0.00      0.00      0.00         1\n",
      "       46284       0.00      0.00      0.00         1\n",
      "       46473       0.00      0.00      0.00         1\n",
      "       46631       0.00      0.00      0.00         1\n",
      "       46747       0.00      0.00      0.00         1\n",
      "       46818       0.00      0.00      0.00         1\n",
      "       46948       0.00      0.00      0.00         1\n",
      "       47119       0.00      0.00      0.00         1\n",
      "       47549       0.00      0.00      0.00         1\n",
      "       47775       0.00      0.00      0.00         1\n",
      "       47807       0.00      0.00      0.00         1\n",
      "       47843       0.00      0.00      0.00         1\n",
      "       47888       0.00      0.00      0.00         0\n",
      "       47951       0.00      0.00      0.00         1\n",
      "       48022       0.00      0.00      0.00         1\n",
      "       48049       0.00      0.00      0.00         1\n",
      "       48530       0.00      0.00      0.00         1\n",
      "       48728       1.00      1.00      1.00         1\n",
      "       48821       1.00      1.00      1.00         1\n",
      "       48950       1.00      1.00      1.00         1\n",
      "       49056       0.00      0.00      0.00         1\n",
      "       49543       0.00      0.00      0.00         1\n",
      "       49852       0.00      0.00      0.00         1\n",
      "       49995       0.00      0.00      0.00         1\n",
      "       50001       0.00      0.00      0.00         1\n",
      "       50221       0.00      0.00      0.00         1\n",
      "       50268       0.00      0.00      0.00         1\n",
      "       50275       0.00      0.00      0.00         1\n",
      "       50441       0.00      0.00      0.00         1\n",
      "       50536       0.00      0.00      0.00         1\n",
      "       50698       0.00      0.00      0.00         1\n",
      "       50732       0.00      0.00      0.00         1\n",
      "       50786       0.00      0.00      0.00         1\n",
      "       50849       1.00      1.00      1.00         1\n",
      "       50972       0.00      0.00      0.00         1\n",
      "       51002       0.00      0.00      0.00         1\n",
      "       51274       0.00      0.00      0.00         1\n",
      "       51308       0.00      0.00      0.00         1\n",
      "       51340       0.00      0.00      0.00         1\n",
      "       51550       0.00      0.00      0.00         1\n",
      "       51587       0.00      0.00      0.00         1\n",
      "       51594       0.00      0.00      0.00         1\n",
      "       51639       0.00      0.00      0.00         1\n",
      "       51694       0.00      0.00      0.00         1\n",
      "       51875       0.00      0.00      0.00         1\n",
      "       51883       0.00      0.00      0.00         1\n",
      "       52450       1.00      1.00      1.00         1\n",
      "       52511       0.00      0.00      0.00         1\n",
      "       52671       0.00      0.00      0.00         1\n",
      "       52735       0.00      0.00      0.00         1\n",
      "       52859       0.00      0.00      0.00         1\n",
      "       52965       0.00      0.00      0.00         1\n",
      "       53135       0.00      0.00      0.00         0\n",
      "       53203       0.00      0.00      0.00         1\n",
      "       53244       1.00      0.50      0.67         2\n",
      "       53414       1.00      1.00      1.00         1\n",
      "       53431       0.00      0.00      0.00         1\n",
      "       53479       0.00      0.00      0.00         1\n",
      "       53513       0.00      0.00      0.00         1\n",
      "       53682       0.00      0.00      0.00         1\n",
      "       53711       0.00      0.00      0.00         1\n",
      "       53765       0.00      0.00      0.00         1\n",
      "       53859       0.00      0.00      0.00         1\n",
      "       53926       0.00      0.00      0.00         1\n",
      "       54147       0.00      0.00      0.00         1\n",
      "       54197       0.00      0.00      0.00         1\n",
      "       54257       0.00      0.00      0.00         1\n",
      "       54267       0.00      0.00      0.00         1\n",
      "       54559       1.00      1.00      1.00         1\n",
      "       54605       0.00      0.00      0.00         1\n",
      "       54661       0.00      0.00      0.00         1\n",
      "       54742       0.00      0.00      0.00         1\n",
      "       54790       0.00      0.00      0.00         1\n",
      "       54792       0.00      0.00      0.00         1\n",
      "       54838       0.00      0.00      0.00         1\n",
      "       54966       0.00      0.00      0.00         1\n",
      "       55066       0.00      0.00      0.00         1\n",
      "       55160       0.00      0.00      0.00         1\n",
      "       55191       0.00      0.00      0.00         1\n",
      "       55211       0.00      0.00      0.00         1\n",
      "       55291       1.00      1.00      1.00         1\n",
      "       55336       0.00      0.00      0.00         1\n",
      "       55436       0.00      0.00      0.00         1\n",
      "       55560       0.00      0.00      0.00         1\n",
      "       55658       0.00      0.00      0.00         1\n",
      "       55760       0.00      0.00      0.00         1\n",
      "       56171       0.00      0.00      0.00         1\n",
      "       56289       0.00      0.00      0.00         1\n",
      "       56387       0.00      0.00      0.00         1\n",
      "       56429       0.00      0.00      0.00         1\n",
      "       56477       0.00      0.00      0.00         1\n",
      "       56526       0.00      0.00      0.00         1\n",
      "       56541       0.00      0.00      0.00         1\n",
      "       56662       0.00      0.00      0.00         1\n",
      "       56699       0.00      0.00      0.00         0\n",
      "       56759       0.00      0.00      0.00         1\n",
      "       57140       0.00      0.00      0.00         1\n",
      "       57407       0.00      0.00      0.00         1\n",
      "       57448       0.00      0.00      0.00         1\n",
      "       57530       0.00      0.00      0.00         1\n",
      "       57919       0.00      0.00      0.00         1\n",
      "       57954       0.00      0.00      0.00         1\n",
      "       58156       0.00      0.00      0.00         1\n",
      "       58203       0.00      0.00      0.00         1\n",
      "       58289       0.00      0.00      0.00         2\n",
      "       58337       1.00      1.00      1.00         1\n",
      "       58408       0.00      0.00      0.00         1\n",
      "       58411       0.00      0.00      0.00         1\n",
      "       58492       0.00      0.00      0.00         1\n",
      "       58509       0.00      0.00      0.00         1\n",
      "       58590       0.00      0.00      0.00         1\n",
      "       58593       0.00      0.00      0.00         1\n",
      "       58752       0.00      0.00      0.00         1\n",
      "       59068       0.00      0.00      0.00         1\n",
      "       59134       0.00      0.00      0.00         1\n",
      "       59149       0.00      0.00      0.00         1\n",
      "       59152       0.00      0.00      0.00         0\n",
      "       59180       0.00      0.00      0.00         1\n",
      "       59182       0.00      0.00      0.00         1\n",
      "       59388       0.00      0.00      0.00         1\n",
      "       59478       0.00      0.00      0.00         1\n",
      "       59504       1.00      1.00      1.00         1\n",
      "       59540       1.00      1.00      1.00         1\n",
      "       59548       0.00      0.00      0.00         1\n",
      "       59562       0.00      0.00      0.00         0\n",
      "       59590       0.00      0.00      0.00         1\n",
      "       59891       0.00      0.00      0.00         1\n",
      "       60000       0.00      0.00      0.00         2\n",
      "       60269       0.00      0.00      0.00         1\n",
      "       60648       0.00      0.00      0.00         1\n",
      "       60679       1.00      1.00      1.00         1\n",
      "       61123       0.00      0.00      0.00         1\n",
      "       61152       0.00      0.00      0.00         1\n",
      "       61424       0.00      0.00      0.00         0\n",
      "       61531       0.00      0.00      0.00         1\n",
      "       61534       0.00      0.00      0.00         1\n",
      "       61559       0.00      0.00      0.00         1\n",
      "       61577       1.00      1.00      1.00         1\n",
      "       61635       0.00      0.00      0.00         1\n",
      "       61678       0.00      0.00      0.00         1\n",
      "       61708       0.00      0.00      0.00         1\n",
      "       61714       0.00      0.00      0.00         1\n",
      "       61759       0.00      0.00      0.00         1\n",
      "       61773       0.00      0.00      0.00         1\n",
      "       61805       0.00      0.00      0.00         2\n",
      "       61968       0.00      0.00      0.00         1\n",
      "       61997       0.00      0.00      0.00         1\n",
      "       62580       0.00      0.00      0.00         1\n",
      "       62649       0.00      0.00      0.00         1\n",
      "       62779       0.00      0.00      0.00         1\n",
      "       62802       0.00      0.00      0.00         1\n",
      "       62806       0.00      0.00      0.00         1\n",
      "       62816       0.00      0.00      0.00         2\n",
      "       62821       1.00      1.00      1.00         1\n",
      "       62900       0.00      0.00      0.00         1\n",
      "       62956       0.00      0.00      0.00         1\n",
      "       62982       0.00      0.00      0.00         1\n",
      "       63283       0.00      0.00      0.00         1\n",
      "       63385       0.00      0.00      0.00         1\n",
      "       63421       0.00      0.00      0.00         1\n",
      "       63856       0.00      0.00      0.00         1\n",
      "       64252       0.00      0.00      0.00         1\n",
      "       64442       0.00      0.00      0.00         1\n",
      "       64477       0.00      0.00      0.00         1\n",
      "       64628       0.00      0.00      0.00         1\n",
      "       64746       0.00      0.00      0.00         1\n",
      "       64778       0.00      0.00      0.00         1\n",
      "       64786       0.00      0.00      0.00         0\n",
      "       64914       0.00      0.00      0.00         1\n",
      "       65076       0.00      0.00      0.00         1\n",
      "       65127       0.00      0.00      0.00         1\n",
      "       65151       0.00      0.00      0.00         1\n",
      "       65179       0.00      0.00      0.00         1\n",
      "       65218       0.00      0.00      0.00         0\n",
      "       65244       0.00      0.00      0.00         1\n",
      "       65329       0.00      0.00      0.00         1\n",
      "       65522       0.00      0.00      0.00         1\n",
      "       65560       0.00      0.00      0.00         1\n",
      "       65764       0.00      0.00      0.00         1\n",
      "       66117       0.00      0.00      0.00         1\n",
      "       66355       0.00      0.00      0.00         1\n",
      "       66470       0.00      0.00      0.00         1\n",
      "       66507       0.00      0.00      0.00         1\n",
      "       66584       0.00      0.00      0.00         1\n",
      "       66814       0.00      0.00      0.00         1\n",
      "       66953       0.00      0.00      0.00         1\n",
      "       67004       0.00      0.00      0.00         1\n",
      "       67049       0.00      0.00      0.00         1\n",
      "       67149       0.00      0.00      0.00         1\n",
      "       67289       0.00      0.00      0.00         1\n",
      "       67340       0.00      0.00      0.00         1\n",
      "       67422       0.00      0.00      0.00         1\n",
      "       67614       0.00      0.00      0.00         1\n",
      "       67902       0.00      0.00      0.00         1\n",
      "       68038       0.00      0.00      0.00         1\n",
      "       68050       0.00      0.00      0.00         1\n",
      "       68190       0.00      0.00      0.00         1\n",
      "       68320       0.00      0.00      0.00         1\n",
      "       68496       0.00      0.00      0.00         1\n",
      "       68559       0.00      0.00      0.00         1\n",
      "       68966       0.00      0.00      0.00         1\n",
      "       68977       0.00      0.00      0.00         1\n",
      "       68988       0.00      0.00      0.00         1\n",
      "       69002       0.00      0.00      0.00         1\n",
      "       69031       0.00      0.00      0.00         1\n",
      "       69204       1.00      1.00      1.00         1\n",
      "       69231       0.00      0.00      0.00         1\n",
      "       69547       1.00      1.00      1.00         1\n",
      "       69565       0.00      0.00      0.00         1\n",
      "       69717       0.00      0.00      0.00         1\n",
      "       69839       0.00      0.00      0.00         1\n",
      "       69872       0.00      0.00      0.00         1\n",
      "       69915       0.00      0.00      0.00         1\n",
      "       70007       0.00      0.00      0.00         1\n",
      "       70238       0.00      0.00      0.00         1\n",
      "       70530       0.00      0.00      0.00         1\n",
      "       70733       0.00      0.00      0.00         1\n",
      "       70824       0.00      0.00      0.00         1\n",
      "       71006       1.00      1.00      1.00         1\n",
      "       71015       0.00      0.00      0.00         1\n",
      "       71083       0.00      0.00      0.00         1\n",
      "       71144       0.00      0.00      0.00         1\n",
      "       71152       0.00      0.00      0.00         1\n",
      "       71182       0.00      0.00      0.00         1\n",
      "       71351       0.00      0.00      0.00         1\n",
      "       71570       0.00      0.00      0.00         1\n",
      "       71638       0.00      0.00      0.00         1\n",
      "       71647       0.00      0.00      0.00         1\n",
      "       71747       1.00      1.00      1.00         1\n",
      "       71918       1.00      1.00      1.00         1\n",
      "       71936       0.00      0.00      0.00         1\n",
      "       72012       1.00      1.00      1.00         1\n",
      "       72070       0.00      0.00      0.00         1\n",
      "       72104       0.00      0.00      0.00         1\n",
      "       72167       1.00      1.00      1.00         1\n",
      "       72189       0.00      0.00      0.00         1\n",
      "       72198       0.00      0.00      0.00         1\n",
      "       72476       0.00      0.00      0.00         1\n",
      "       72525       0.00      0.00      0.00         1\n",
      "       72629       0.00      0.00      0.00         1\n",
      "       72664       0.00      0.00      0.00         1\n",
      "       72697       0.00      0.00      0.00         1\n",
      "       72805       1.00      1.00      1.00         1\n",
      "       72837       0.00      0.00      0.00         1\n",
      "       72856       1.00      1.00      1.00         1\n",
      "       73019       0.00      0.00      0.00         1\n",
      "       73182       0.00      0.00      0.00         1\n",
      "       73202       0.00      0.00      0.00         1\n",
      "       73290       0.00      0.00      0.00         1\n",
      "       73360       0.00      0.00      0.00         1\n",
      "       73452       0.00      0.00      0.00         1\n",
      "       73664       0.00      0.00      0.00         1\n",
      "       73745       0.00      0.00      0.00         1\n",
      "       73748       0.00      0.00      0.00         1\n",
      "       73784       0.00      0.00      0.00         1\n",
      "       73825       0.00      0.00      0.00         1\n",
      "       74047       0.00      0.00      0.00         0\n",
      "       74106       0.00      0.00      0.00         1\n",
      "       74243       0.00      0.00      0.00         1\n",
      "       74623       0.00      0.00      0.00         1\n",
      "       74857       0.00      0.00      0.00         1\n",
      "       74935       0.00      0.00      0.00         1\n",
      "       75165       0.00      0.00      0.00         1\n",
      "       75168       0.00      0.00      0.00         1\n",
      "       75226       0.00      0.00      0.00         1\n",
      "       75344       0.00      0.00      0.00         1\n",
      "       75374       0.00      0.00      0.00         1\n",
      "       75448       0.00      0.00      0.00         1\n",
      "       75518       0.00      0.00      0.00         1\n",
      "       75534       0.00      0.00      0.00         1\n",
      "       75642       0.00      0.00      0.00         1\n",
      "       75692       0.00      0.00      0.00         1\n",
      "       75725       0.00      0.00      0.00         1\n",
      "       75740       0.00      0.00      0.00         1\n",
      "       75793       0.00      0.00      0.00         1\n",
      "       76029       0.00      0.00      0.00         1\n",
      "       76134       1.00      1.00      1.00         1\n",
      "       76265       0.00      0.00      0.00         1\n",
      "       76277       0.00      0.00      0.00         1\n",
      "       76287       0.00      0.00      0.00         1\n",
      "       76349       0.00      0.00      0.00         1\n",
      "       76422       0.00      0.00      0.00         1\n",
      "       76440       0.00      0.00      0.00         1\n",
      "       76513       0.00      0.00      0.00         1\n",
      "       76649       0.00      0.00      0.00         1\n",
      "       76662       0.00      0.00      0.00         1\n",
      "       76677       0.00      0.00      0.00         1\n",
      "       76944       0.00      0.00      0.00         1\n",
      "       77094       1.00      1.00      1.00         1\n",
      "       77280       0.00      0.00      0.00         1\n",
      "       77341       0.00      0.00      0.00         1\n",
      "       77489       0.00      0.00      0.00         1\n",
      "       77572       0.00      0.00      0.00         1\n",
      "       77663       0.00      0.00      0.00         1\n",
      "       77847       0.00      0.00      0.00         1\n",
      "       77854       0.00      0.00      0.00         1\n",
      "       77982       0.00      0.00      0.00         1\n",
      "       78131       0.00      0.00      0.00         1\n",
      "       78220       0.00      0.00      0.00         1\n",
      "       78274       0.00      0.00      0.00         1\n",
      "       78335       0.00      0.00      0.00         1\n",
      "       78350       0.00      0.00      0.00         1\n",
      "       78695       0.00      0.00      0.00         1\n",
      "       78800       0.00      0.00      0.00         1\n",
      "       78853       0.00      0.00      0.00         1\n",
      "       78934       0.00      0.00      0.00         1\n",
      "       79065       0.00      0.00      0.00         1\n",
      "       79075       0.00      0.00      0.00         1\n",
      "       79114       0.00      0.00      0.00         1\n",
      "       79179       0.00      0.00      0.00         1\n",
      "       79215       0.00      0.00      0.00         1\n",
      "       79390       0.00      0.00      0.00         1\n",
      "       79422       0.00      0.00      0.00         1\n",
      "       79606       0.00      0.00      0.00         1\n",
      "       79816       1.00      1.00      1.00         1\n",
      "       79911       0.00      0.00      0.00         1\n",
      "       80364       0.00      0.00      0.00         1\n",
      "       80614       0.00      0.00      0.00         1\n",
      "       80894       0.00      0.00      0.00         1\n",
      "       81057       0.00      0.00      0.00         1\n",
      "       81068       0.00      0.00      0.00         1\n",
      "       81177       0.00      0.00      0.00         1\n",
      "       81199       0.00      0.00      0.00         1\n",
      "       81229       0.00      0.00      0.00         1\n",
      "       81324       0.00      0.00      0.00         1\n",
      "       81326       0.00      0.00      0.00         1\n",
      "       81331       1.00      1.00      1.00         1\n",
      "       81358       0.00      0.00      0.00         1\n",
      "       81564       0.00      0.00      0.00         1\n",
      "       81632       0.00      0.00      0.00         1\n",
      "       81761       0.00      0.00      0.00         1\n",
      "       81878       0.00      0.00      0.00         1\n",
      "       82087       0.00      0.00      0.00         1\n",
      "       82200       0.00      0.00      0.00         1\n",
      "       82206       0.00      0.00      0.00         1\n",
      "       82244       0.00      0.00      0.00         1\n",
      "       82617       0.00      0.00      0.00         1\n",
      "       82697       0.00      0.00      0.00         1\n",
      "       82821       0.00      0.00      0.00         1\n",
      "       83110       0.00      0.00      0.00         1\n",
      "       83370       0.00      0.00      0.00         1\n",
      "       83417       0.00      0.00      0.00         1\n",
      "       83677       0.00      0.00      0.00         1\n",
      "       83760       0.00      0.00      0.00         1\n",
      "       83968       0.00      0.00      0.00         1\n",
      "       84338       1.00      1.00      1.00         1\n",
      "       84362       0.00      0.00      0.00         1\n",
      "       84475       0.00      0.00      0.00         1\n",
      "       84505       0.00      0.00      0.00         1\n",
      "       84667       0.00      0.00      0.00         1\n",
      "       84749       0.00      0.00      0.00         1\n",
      "       84843       0.00      0.00      0.00         1\n",
      "       85052       0.00      0.00      0.00         1\n",
      "       85088       1.00      1.00      1.00         1\n",
      "       85330       0.00      0.00      0.00         1\n",
      "       85499       0.00      0.00      0.00         1\n",
      "       85612       1.00      1.00      1.00         1\n",
      "       85636       0.00      0.00      0.00         1\n",
      "       85722       0.00      0.00      0.00         2\n",
      "       86096       0.00      0.00      0.00         1\n",
      "       86272       0.00      0.00      0.00         1\n",
      "       86405       0.00      0.00      0.00         1\n",
      "       86486       0.00      0.00      0.00         1\n",
      "       86539       1.00      1.00      1.00         1\n",
      "       86576       0.00      0.00      0.00         1\n",
      "       86816       0.00      0.00      0.00         1\n",
      "       87132       0.00      0.00      0.00         1\n",
      "       87230       0.00      0.00      0.00         1\n",
      "       87593       0.00      0.00      0.00         1\n",
      "       87915       0.00      0.00      0.00         1\n",
      "       87917       1.00      1.00      1.00         1\n",
      "       87919       0.00      0.00      0.00         1\n",
      "       88018       0.00      0.00      0.00         1\n",
      "       88046       0.00      0.00      0.00         1\n",
      "       88074       1.00      1.00      1.00         1\n",
      "       88143       0.00      0.00      0.00         1\n",
      "       88167       0.00      0.00      0.00         1\n",
      "       88206       0.00      0.00      0.00         0\n",
      "       88294       0.00      0.00      0.00         1\n",
      "       88485       0.00      0.00      0.00         1\n",
      "       88501       0.00      0.00      0.00         1\n",
      "       88660       0.00      0.00      0.00         1\n",
      "       88723       0.00      0.00      0.00         1\n",
      "       88813       0.00      0.00      0.00         1\n",
      "       88968       0.00      0.00      0.00         1\n",
      "       89116       0.00      0.00      0.00         1\n",
      "       89158       0.00      0.00      0.00         1\n",
      "       89208       0.00      0.00      0.00         1\n",
      "       89220       0.00      0.00      0.00         1\n",
      "       89411       1.00      1.00      1.00         1\n",
      "       89451       0.00      0.00      0.00         1\n",
      "       89649       0.00      0.00      0.00         1\n",
      "       89659       0.00      0.00      0.00         1\n",
      "       89850       1.00      1.00      1.00         1\n",
      "       89877       1.00      1.00      1.00         1\n",
      "       89937       0.00      0.00      0.00         1\n",
      "       90111       0.00      0.00      0.00         1\n",
      "       90260       0.00      0.00      0.00         1\n",
      "       90351       0.00      0.00      0.00         1\n",
      "       90632       0.00      0.00      0.00         1\n",
      "       90694       0.00      0.00      0.00         1\n",
      "       90770       0.00      0.00      0.00         1\n",
      "       90851       1.00      1.00      1.00         1\n",
      "       90965       0.00      0.00      0.00         0\n",
      "       90989       0.00      0.00      0.00         1\n",
      "       91139       0.00      0.00      0.00         1\n",
      "       91787       0.00      0.00      0.00         1\n",
      "       91818       0.00      0.00      0.00         1\n",
      "       92130       0.00      0.00      0.00         1\n",
      "       92296       0.00      0.00      0.00         1\n",
      "       92320       0.00      0.00      0.00         1\n",
      "       92399       0.00      0.00      0.00         1\n",
      "       92533       1.00      1.00      1.00         1\n",
      "       92556       0.00      0.00      0.00         1\n",
      "       92745       0.00      0.00      0.00         1\n",
      "       92908       0.00      0.00      0.00         1\n",
      "       92934       0.00      0.00      0.00         1\n",
      "       93046       0.00      0.00      0.00         1\n",
      "       93363       0.00      0.00      0.00         1\n",
      "       93511       0.00      0.00      0.00         1\n",
      "       93549       0.00      0.00      0.00         1\n",
      "       93685       0.00      0.00      0.00         1\n",
      "       93690       0.00      0.00      0.00         1\n",
      "       93873       0.00      0.00      0.00         1\n",
      "       94061       0.00      0.00      0.00         1\n",
      "       94375       0.00      0.00      0.00         1\n",
      "       94537       0.00      0.00      0.00         1\n",
      "       94562       0.00      0.00      0.00         1\n",
      "       94758       0.00      0.00      0.00         1\n",
      "       94786       0.00      0.00      0.00         1\n",
      "       95575       0.00      0.00      0.00         1\n",
      "       95665       0.00      0.00      0.00         1\n",
      "       95874       0.00      0.00      0.00         1\n",
      "       95885       0.00      0.00      0.00         1\n",
      "       95904       0.00      0.00      0.00         1\n",
      "       96045       0.00      0.00      0.00         1\n",
      "       96046       0.00      0.00      0.00         1\n",
      "       96219       0.00      0.00      0.00         1\n",
      "       96236       0.00      0.00      0.00         2\n",
      "       96275       1.00      1.00      1.00         1\n",
      "       96337       0.00      0.00      0.00         0\n",
      "       96339       0.00      0.00      0.00         1\n",
      "       96340       0.00      0.00      0.00         1\n",
      "       96494       0.00      0.00      0.00         1\n",
      "       96671       0.00      0.00      0.00         1\n",
      "       96689       0.00      0.00      0.00         1\n",
      "       96916       0.00      0.00      0.00         0\n",
      "       96985       0.00      0.00      0.00         1\n",
      "       97041       0.00      0.00      0.00         1\n",
      "       97080       0.00      0.00      0.00         1\n",
      "       97141       0.00      0.00      0.00         1\n",
      "       97196       0.00      0.00      0.00         1\n",
      "       97413       0.00      0.00      0.00         1\n",
      "       97427       0.00      0.00      0.00         1\n",
      "       97541       0.00      0.00      0.00         1\n",
      "       97657       0.00      0.00      0.00         1\n",
      "       97715       0.00      0.00      0.00         1\n",
      "       97901       1.00      1.00      1.00         1\n",
      "       98119       0.00      0.00      0.00         1\n",
      "       98149       0.00      0.00      0.00         1\n",
      "       98284       0.00      0.00      0.00         1\n",
      "       98357       0.00      0.00      0.00         1\n",
      "       98405       0.00      0.00      0.00         1\n",
      "       98497       1.00      1.00      1.00         1\n",
      "       98589       0.00      0.00      0.00         2\n",
      "       98720       1.00      1.00      1.00         1\n",
      "       98724       0.00      0.00      0.00         1\n",
      "       98747       0.00      0.00      0.00         1\n",
      "       98905       0.00      0.00      0.00         1\n",
      "       98943       0.00      0.00      0.00         1\n",
      "       98968       0.00      0.00      0.00         1\n",
      "       99041       0.00      0.00      0.00         1\n",
      "       99092       0.00      0.00      0.00         1\n",
      "       99192       0.00      0.00      0.00         1\n",
      "       99254       0.00      0.00      0.00         1\n",
      "       99490       0.00      0.00      0.00         1\n",
      "       99507       0.00      0.00      0.00         1\n",
      "       99911       0.00      0.00      0.00         1\n",
      "      100011       0.00      0.00      0.00         1\n",
      "      100015       1.00      1.00      1.00         1\n",
      "      100039       0.00      0.00      0.00         1\n",
      "      100049       0.00      0.00      0.00         1\n",
      "      100147       0.00      0.00      0.00         1\n",
      "      100228       0.00      0.00      0.00         1\n",
      "      100331       0.00      0.00      0.00         1\n",
      "      100388       0.00      0.00      0.00         1\n",
      "      100394       0.00      0.00      0.00         1\n",
      "      100420       0.00      0.00      0.00         1\n",
      "      100540       0.00      0.00      0.00         1\n",
      "      100612       0.00      0.00      0.00         2\n",
      "      100615       0.00      0.00      0.00         1\n",
      "      100739       0.00      0.00      0.00         1\n",
      "      100760       0.00      0.00      0.00         1\n",
      "      101065       0.00      0.00      0.00         1\n",
      "      101116       1.00      1.00      1.00         1\n",
      "      101282       0.00      0.00      0.00         1\n",
      "      101486       0.00      0.00      0.00         1\n",
      "      101675       0.00      0.00      0.00         1\n",
      "      101793       0.00      0.00      0.00         2\n",
      "      101880       0.00      0.00      0.00         1\n",
      "      101932       0.00      0.00      0.00         1\n",
      "      101942       0.00      0.00      0.00         1\n",
      "      101991       0.00      0.00      0.00         1\n",
      "      102036       0.00      0.00      0.00         1\n",
      "      102051       0.00      0.00      0.00         1\n",
      "      102115       0.00      0.00      0.00         1\n",
      "      102262       0.00      0.00      0.00         1\n",
      "      102435       0.00      0.00      0.00         1\n",
      "      102639       0.00      0.00      0.00         1\n",
      "      102732       1.00      1.00      1.00         1\n",
      "      102917       0.00      0.00      0.00         1\n",
      "      103052       0.00      0.00      0.00         1\n",
      "      103219       0.00      0.00      0.00         1\n",
      "      103315       0.00      0.00      0.00         2\n",
      "      103385       0.00      0.00      0.00         1\n",
      "      103414       0.00      0.00      0.00         1\n",
      "      103419       0.00      0.00      0.00         1\n",
      "      103428       0.00      0.00      0.00         1\n",
      "      103455       0.00      0.00      0.00         1\n",
      "      103582       0.00      0.00      0.00         1\n",
      "      103682       0.00      0.00      0.00         0\n",
      "      103686       0.00      0.00      0.00         1\n",
      "      104048       0.00      0.00      0.00         1\n",
      "      104118       0.00      0.00      0.00         1\n",
      "      104138       0.00      0.00      0.00         1\n",
      "      104275       0.00      0.00      0.00         1\n",
      "      104303       0.00      0.00      0.00         1\n",
      "      104418       0.00      0.00      0.00         1\n",
      "      104604       0.00      0.00      0.00         1\n",
      "      104629       0.00      0.00      0.00         1\n",
      "      104851       0.00      0.00      0.00         1\n",
      "      104919       0.00      0.00      0.00         1\n",
      "      105027       0.00      0.00      0.00         1\n",
      "      105078       0.00      0.00      0.00         1\n",
      "      105112       0.00      0.00      0.00         1\n",
      "      105140       0.00      0.00      0.00         1\n",
      "      105308       0.00      0.00      0.00         1\n",
      "      105386       0.00      0.00      0.00         1\n",
      "      105466       0.00      0.00      0.00         1\n",
      "      105495       0.00      0.00      0.00         1\n",
      "      105660       0.00      0.00      0.00         1\n",
      "      105687       0.00      0.00      0.00         1\n",
      "      105734       0.00      0.00      0.00         1\n",
      "      105804       0.00      0.00      0.00         1\n",
      "      105807       0.00      0.00      0.00         1\n",
      "      106027       0.00      0.00      0.00         1\n",
      "      106068       0.00      0.00      0.00         1\n",
      "      106275       0.00      0.00      0.00         1\n",
      "      106526       0.00      0.00      0.00         1\n",
      "      106850       0.00      0.00      0.00         1\n",
      "      106903       1.00      1.00      1.00         1\n",
      "      106978       0.00      0.00      0.00         1\n",
      "      107020       0.00      0.00      0.00         1\n",
      "      107060       0.00      0.00      0.00         1\n",
      "      107154       0.00      0.00      0.00         1\n",
      "      107173       0.00      0.00      0.00         1\n",
      "      107196       0.00      0.00      0.00         1\n",
      "      107261       0.00      0.00      0.00         1\n",
      "      107285       0.00      0.00      0.00         1\n",
      "      107304       0.00      0.00      0.00         1\n",
      "      107436       0.00      0.00      0.00         1\n",
      "      107477       0.00      0.00      0.00         0\n",
      "      107487       0.00      0.00      0.00         1\n",
      "      107559       0.00      0.00      0.00         1\n",
      "      107828       0.00      0.00      0.00         1\n",
      "      107878       1.00      1.00      1.00         1\n",
      "      108029       0.00      0.00      0.00         1\n",
      "      108173       0.00      0.00      0.00         1\n",
      "      108195       0.00      0.00      0.00         1\n",
      "      108270       0.00      0.00      0.00         1\n",
      "      108378       0.00      0.00      0.00         1\n",
      "      108489       0.00      0.00      0.00         1\n",
      "      108606       0.00      0.00      0.00         1\n",
      "      108653       0.00      0.00      0.00         1\n",
      "      108687       0.00      0.00      0.00         1\n",
      "      108691       0.00      0.00      0.00         1\n",
      "      108854       0.00      0.00      0.00         1\n",
      "      108993       0.00      0.00      0.00         1\n",
      "      109089       0.00      0.00      0.00         1\n",
      "      109127       0.00      0.00      0.00         1\n",
      "      109252       0.00      0.00      0.00         1\n",
      "      109424       0.00      0.00      0.00         1\n",
      "      109439       0.00      0.00      0.00         1\n",
      "      109623       0.00      0.00      0.00         1\n",
      "      109677       0.00      0.00      0.00         0\n",
      "      109949       0.00      0.00      0.00         1\n",
      "      109968       0.00      0.00      0.00         1\n",
      "      110204       0.00      0.00      0.00         1\n",
      "      110498       0.00      0.00      0.00         1\n",
      "      110583       0.00      0.00      0.00         1\n",
      "      111113       0.00      0.00      0.00         1\n",
      "      111324       0.00      0.00      0.00         1\n",
      "      111507       0.00      0.00      0.00         1\n",
      "      111562       0.00      0.00      0.00         1\n",
      "      111570       0.00      0.00      0.00         1\n",
      "      111677       0.00      0.00      0.00         1\n",
      "      111686       0.00      0.00      0.00         1\n",
      "      111705       0.00      0.00      0.00         1\n",
      "      111789       1.00      1.00      1.00         1\n",
      "      111826       0.00      0.00      0.00         1\n",
      "      111918       0.00      0.00      0.00         1\n",
      "      111977       0.00      0.00      0.00         1\n",
      "      112028       1.00      1.00      1.00         1\n",
      "      112058       0.00      0.00      0.00         1\n",
      "      112134       0.00      0.00      0.00         1\n",
      "      112156       0.00      0.00      0.00         1\n",
      "      112162       0.00      0.00      0.00         1\n",
      "      112352       0.00      0.00      0.00         1\n",
      "      112437       0.00      0.00      0.00         1\n",
      "      112768       0.00      0.00      0.00         1\n",
      "      112926       0.00      0.00      0.00         1\n",
      "      112993       0.00      0.00      0.00         1\n",
      "      113059       0.00      0.00      0.00         1\n",
      "      113458       0.00      0.00      0.00         1\n",
      "      113651       0.00      0.00      0.00         1\n",
      "      113734       0.00      0.00      0.00         1\n",
      "      113764       0.00      0.00      0.00         1\n",
      "      113823       0.00      0.00      0.00         1\n",
      "      113838       0.00      0.00      0.00         1\n",
      "      113895       0.00      0.00      0.00         1\n",
      "      114006       0.00      0.00      0.00         1\n",
      "      114106       0.00      0.00      0.00         1\n",
      "      114180       0.00      0.00      0.00         1\n",
      "      114259       0.00      0.00      0.00         1\n",
      "      114274       0.00      0.00      0.00         1\n",
      "      114293       0.00      0.00      0.00         1\n",
      "      114483       0.00      0.00      0.00         1\n",
      "      114503       0.00      0.00      0.00         1\n",
      "      114509       0.00      0.00      0.00         1\n",
      "      114669       0.00      0.00      0.00         1\n",
      "      114772       1.00      1.00      1.00         1\n",
      "      114934       1.00      1.00      1.00         1\n",
      "      114981       0.00      0.00      0.00         1\n",
      "      115025       0.00      0.00      0.00         1\n",
      "      115040       0.00      0.00      0.00         1\n",
      "      115087       0.00      0.00      0.00         1\n",
      "      115282       0.00      0.00      0.00         1\n",
      "      115372       0.00      0.00      0.00         1\n",
      "      115407       0.00      0.00      0.00         1\n",
      "      115429       0.00      0.00      0.00         1\n",
      "      115477       0.00      0.00      0.00         1\n",
      "      115530       0.00      0.00      0.00         1\n",
      "      115537       0.00      0.00      0.00         1\n",
      "      115572       1.00      1.00      1.00         1\n",
      "      115670       0.00      0.00      0.00         1\n",
      "      115852       0.00      0.00      0.00         1\n",
      "      115938       0.00      0.00      0.00         1\n",
      "      116064       0.00      0.00      0.00         1\n",
      "      116114       0.00      0.00      0.00         1\n",
      "      116231       0.00      0.00      0.00         1\n",
      "      116237       1.00      1.00      1.00         1\n",
      "      116264       0.00      0.00      0.00         1\n",
      "      116276       0.00      0.00      0.00         1\n",
      "      116487       0.00      0.00      0.00         1\n",
      "      116543       0.00      0.00      0.00         1\n",
      "      116603       0.00      0.00      0.00         1\n",
      "      116789       0.00      0.00      0.00         1\n",
      "      117176       0.00      0.00      0.00         1\n",
      "      117196       0.00      0.00      0.00         1\n",
      "      117221       0.00      0.00      0.00         1\n",
      "      117268       0.00      0.00      0.00         1\n",
      "      117352       0.00      0.00      0.00         1\n",
      "      117395       0.00      0.00      0.00         1\n",
      "      117685       0.00      0.00      0.00         1\n",
      "      117707       0.00      0.00      0.00         1\n",
      "      118001       0.00      0.00      0.00         1\n",
      "      118121       0.00      0.00      0.00         1\n",
      "      118261       0.00      0.00      0.00         1\n",
      "      118295       1.00      1.00      1.00         1\n",
      "      118460       0.00      0.00      0.00         2\n",
      "      118556       0.00      0.00      0.00         1\n",
      "      118672       0.00      0.00      0.00         1\n",
      "      118737       0.00      0.00      0.00         1\n",
      "      118873       0.00      0.00      0.00         1\n",
      "      119176       0.00      0.00      0.00         1\n",
      "      119195       0.00      0.00      0.00         1\n",
      "      119224       0.00      0.00      0.00         1\n",
      "      119340       0.00      0.00      0.00         1\n",
      "      119404       0.00      0.00      0.00         1\n",
      "      119485       1.00      1.00      1.00         1\n",
      "      119495       0.00      0.00      0.00         1\n",
      "      119505       0.00      0.00      0.00         1\n",
      "      119555       0.00      0.00      0.00         1\n",
      "      119680       0.00      0.00      0.00         1\n",
      "      119691       0.00      0.00      0.00         1\n",
      "      119752       0.00      0.00      0.00         1\n",
      "      119840       0.00      0.00      0.00         1\n",
      "      119870       0.00      0.00      0.00         1\n",
      "      119884       0.00      0.00      0.00         0\n",
      "      120005       0.00      0.00      0.00         1\n",
      "      120015       0.00      0.00      0.00         1\n",
      "      120084       0.00      0.00      0.00         1\n",
      "      120157       0.00      0.00      0.00         1\n",
      "      120339       0.00      0.00      0.00         1\n",
      "      120683       0.00      0.00      0.00         1\n",
      "      120803       0.00      0.00      0.00         1\n",
      "      120931       0.00      0.00      0.00         1\n",
      "      121007       0.00      0.00      0.00         1\n",
      "      121103       0.00      0.00      0.00         1\n",
      "      121263       0.00      0.00      0.00         1\n",
      "      121279       0.00      0.00      0.00         1\n",
      "      121435       0.00      0.00      0.00         1\n",
      "      121437       0.00      0.00      0.00         1\n",
      "      121521       1.00      1.00      1.00         1\n",
      "      121823       0.00      0.00      0.00         1\n",
      "      121934       0.00      0.00      0.00         1\n",
      "      121976       0.00      0.00      0.00         1\n",
      "      122105       1.00      1.00      1.00         1\n",
      "      122183       0.00      0.00      0.00         1\n",
      "      122284       0.00      0.00      0.00         1\n",
      "      122384       0.00      0.00      0.00         1\n",
      "      122422       0.00      0.00      0.00         1\n",
      "      122544       0.00      0.00      0.00         1\n",
      "      122583       0.00      0.00      0.00         1\n",
      "      122596       0.00      0.00      0.00         1\n",
      "      122668       0.00      0.00      0.00         1\n",
      "      122721       0.00      0.00      0.00         1\n",
      "      122793       0.00      0.00      0.00         1\n",
      "      122855       0.00      0.00      0.00         1\n",
      "      122911       0.00      0.00      0.00         1\n",
      "      122922       0.00      0.00      0.00         1\n",
      "      123009       0.00      0.00      0.00         1\n",
      "      123142       0.00      0.00      0.00         1\n",
      "      123587       0.00      0.00      0.00         1\n",
      "      123686       0.00      0.00      0.00         2\n",
      "      123797       1.00      1.00      1.00         1\n",
      "      123807       0.00      0.00      0.00         1\n",
      "      123839       0.00      0.00      0.00         1\n",
      "      124027       0.00      0.00      0.00         1\n",
      "      124053       1.00      1.00      1.00         1\n",
      "      124057       0.00      0.00      0.00         1\n",
      "      124163       0.00      0.00      0.00         1\n",
      "      124213       0.00      0.00      0.00         1\n",
      "      124269       1.00      1.00      1.00         1\n",
      "      124699       0.00      0.00      0.00         1\n",
      "      125036       0.00      0.00      0.00         1\n",
      "      125090       0.00      0.00      0.00         1\n",
      "      125230       0.00      0.00      0.00         1\n",
      "      125642       0.00      0.00      0.00         1\n",
      "      125805       1.00      1.00      1.00         1\n",
      "      125812       0.00      0.00      0.00         1\n",
      "      125843       0.00      0.00      0.00         1\n",
      "      125855       0.00      0.00      0.00         1\n",
      "      126024       0.00      0.00      0.00         1\n",
      "      126055       0.00      0.00      0.00         1\n",
      "      126103       0.00      0.00      0.00         1\n",
      "      126105       0.00      0.00      0.00         1\n",
      "      126200       0.00      0.00      0.00         1\n",
      "      126205       0.00      0.00      0.00         1\n",
      "      126308       0.00      0.00      0.00         1\n",
      "      126425       0.00      0.00      0.00         1\n",
      "      126431       0.00      0.00      0.00         1\n",
      "      126449       0.00      0.00      0.00         1\n",
      "      126513       0.00      0.00      0.00         1\n",
      "      126515       0.00      0.00      0.00         1\n",
      "      126818       0.00      0.00      0.00         1\n",
      "      126920       0.00      0.00      0.00         1\n",
      "      127060       0.00      0.00      0.00         1\n",
      "      127122       1.00      1.00      1.00         1\n",
      "      127140       0.00      0.00      0.00         1\n",
      "      127168       0.00      0.00      0.00         1\n",
      "      127186       0.00      0.00      0.00         0\n",
      "      127452       0.00      0.00      0.00         1\n",
      "      127516       0.00      0.00      0.00         1\n",
      "      127539       0.00      0.00      0.00         1\n",
      "      127707       0.00      0.00      0.00         1\n",
      "      127764       0.00      0.00      0.00         1\n",
      "      128326       0.00      0.00      0.00         1\n",
      "      128365       0.00      0.00      0.00         1\n",
      "      128631       0.00      0.00      0.00         1\n",
      "      128655       0.00      0.00      0.00         1\n",
      "      128788       1.00      1.00      1.00         1\n",
      "      129224       0.00      0.00      0.00         1\n",
      "      129348       0.00      0.00      0.00         1\n",
      "      129440       0.00      0.00      0.00         1\n",
      "      129640       0.00      0.00      0.00         1\n",
      "      129757       0.00      0.00      0.00         1\n",
      "      129772       1.00      1.00      1.00         1\n",
      "      129834       0.00      0.00      0.00         1\n",
      "      129889       0.00      0.00      0.00         1\n",
      "      129908       0.00      0.00      0.00         1\n",
      "      130233       0.00      0.00      0.00         1\n",
      "      130268       0.00      0.00      0.00         1\n",
      "      130308       0.00      0.00      0.00         1\n",
      "      130380       0.00      0.00      0.00         1\n",
      "      130398       0.00      0.00      0.00         1\n",
      "      130744       0.00      0.00      0.00         1\n",
      "      131032       0.00      0.00      0.00         1\n",
      "      131096       0.00      0.00      0.00         1\n",
      "      131181       1.00      1.00      1.00         1\n",
      "      131466       0.00      0.00      0.00         2\n",
      "      131606       0.00      0.00      0.00         1\n",
      "      131621       0.00      0.00      0.00         1\n",
      "      131687       0.00      0.00      0.00         1\n",
      "      131689       0.00      0.00      0.00         1\n",
      "      131884       0.00      0.00      0.00         1\n",
      "      131892       1.00      1.00      1.00         1\n",
      "      131910       0.00      0.00      0.00         1\n",
      "      132059       0.00      0.00      0.00         1\n",
      "      132086       0.00      0.00      0.00         1\n",
      "      132200       0.00      0.00      0.00         1\n",
      "      132371       0.00      0.00      0.00         2\n",
      "      132517       1.00      1.00      1.00         1\n",
      "      132678       0.00      0.00      0.00         1\n",
      "      132691       0.00      0.00      0.00         1\n",
      "      133003       0.00      0.00      0.00         1\n",
      "      133011       0.00      0.00      0.00         1\n",
      "      133387       0.00      0.00      0.00         1\n",
      "      133438       0.00      0.00      0.00         1\n",
      "      133510       0.00      0.00      0.00         1\n",
      "      133523       0.00      0.00      0.00         1\n",
      "      133642       0.00      0.00      0.00         1\n",
      "      133667       0.00      0.00      0.00         1\n",
      "      133774       0.00      0.00      0.00         1\n",
      "      133781       0.00      0.00      0.00         1\n",
      "      133890       1.00      1.00      1.00         1\n",
      "      133929       0.00      0.00      0.00         1\n",
      "      134028       0.00      0.00      0.00         1\n",
      "      134210       0.00      0.00      0.00         1\n",
      "      134316       0.00      0.00      0.00         1\n",
      "      134408       1.00      1.00      1.00         1\n",
      "      134415       0.00      0.00      0.00         1\n",
      "      134683       0.00      0.00      0.00         1\n",
      "      134757       0.00      0.00      0.00         1\n",
      "      134792       0.00      0.00      0.00         1\n",
      "      134813       0.00      0.00      0.00         1\n",
      "      134912       0.00      0.00      0.00         1\n",
      "      135150       0.00      0.00      0.00         1\n",
      "      135241       0.00      0.00      0.00         2\n",
      "      135254       0.00      0.00      0.00         1\n",
      "      135293       0.00      0.00      0.00         1\n",
      "      135449       0.00      0.00      0.00         1\n",
      "      135488       0.00      0.00      0.00         1\n",
      "      135502       0.00      0.00      0.00         1\n",
      "      135665       0.00      0.00      0.00         1\n",
      "      135876       0.00      0.00      0.00         1\n",
      "      135884       0.00      0.00      0.00         1\n",
      "      135905       0.00      0.00      0.00         1\n",
      "      136032       0.00      0.00      0.00         1\n",
      "      136079       0.00      0.00      0.00         1\n",
      "      136102       0.00      0.00      0.00         1\n",
      "      136169       0.00      0.00      0.00         1\n",
      "      136369       0.00      0.00      0.00         1\n",
      "      136466       0.00      0.00      0.00         1\n",
      "      136475       0.00      0.00      0.00         1\n",
      "      136548       0.00      0.00      0.00         1\n",
      "      136695       0.00      0.00      0.00         1\n",
      "      136884       0.00      0.00      0.00         1\n",
      "      136975       0.00      0.00      0.00         1\n",
      "      137132       0.00      0.00      0.00         1\n",
      "      137145       1.00      1.00      1.00         1\n",
      "      137157       0.00      0.00      0.00         1\n",
      "      137210       0.00      0.00      0.00         1\n",
      "      137733       0.00      0.00      0.00         1\n",
      "      137775       0.00      0.00      0.00         1\n",
      "      137796       0.00      0.00      0.00         1\n",
      "      137822       0.00      0.00      0.00         1\n",
      "      137918       0.00      0.00      0.00         1\n",
      "      137937       0.00      0.00      0.00         1\n",
      "      138021       0.00      0.00      0.00         1\n",
      "      138057       0.00      0.00      0.00         1\n",
      "      138239       0.00      0.00      0.00         1\n",
      "      138289       0.00      0.00      0.00         1\n",
      "      138322       0.00      0.00      0.00         1\n",
      "      138490       0.00      0.00      0.00         1\n",
      "      138520       0.00      0.00      0.00         1\n",
      "      138538       0.00      0.00      0.00         1\n",
      "      138588       0.00      0.00      0.00         1\n",
      "      138602       0.00      0.00      0.00         1\n",
      "      138683       0.00      0.00      0.00         1\n",
      "      138722       0.00      0.00      0.00         1\n",
      "      138838       0.00      0.00      0.00         1\n",
      "      138899       0.00      0.00      0.00         1\n",
      "      139006       0.00      0.00      0.00         2\n",
      "      139158       0.00      0.00      0.00         1\n",
      "      139297       0.00      0.00      0.00         1\n",
      "      139540       0.00      0.00      0.00         1\n",
      "      139574       0.00      0.00      0.00         1\n",
      "      139600       0.00      0.00      0.00         1\n",
      "      139607       0.00      0.00      0.00         1\n",
      "      139706       0.00      0.00      0.00         1\n",
      "      139819       0.00      0.00      0.00         1\n",
      "      139898       0.00      0.00      0.00         1\n",
      "      140102       0.00      0.00      0.00         1\n",
      "      140209       1.00      1.00      1.00         1\n",
      "      140469       0.00      0.00      0.00         1\n",
      "      140516       0.00      0.00      0.00         1\n",
      "      140620       0.00      0.00      0.00         1\n",
      "      140656       0.00      0.00      0.00         1\n",
      "      140720       0.00      0.00      0.00         1\n",
      "      140838       0.00      0.00      0.00         1\n",
      "      140853       0.00      0.00      0.00         1\n",
      "      140873       0.00      0.00      0.00         1\n",
      "      140975       0.00      0.00      0.00         1\n",
      "      140978       0.00      0.00      0.00         1\n",
      "      141022       0.00      0.00      0.00         1\n",
      "      141069       0.00      0.00      0.00         2\n",
      "      141192       0.00      0.00      0.00         1\n",
      "      141229       0.00      0.00      0.00         1\n",
      "      141458       0.00      0.00      0.00         1\n",
      "      141501       0.00      0.00      0.00         1\n",
      "      141585       0.00      0.00      0.00         1\n",
      "      141660       0.00      0.00      0.00         1\n",
      "      141761       0.00      0.00      0.00         1\n",
      "      141966       0.00      0.00      0.00         1\n",
      "      142019       0.00      0.00      0.00         1\n",
      "      142582       0.00      0.00      0.00         1\n",
      "      142594       0.00      0.00      0.00         1\n",
      "      142629       0.00      0.00      0.00         1\n",
      "      142664       0.00      0.00      0.00         1\n",
      "      142672       0.00      0.00      0.00         1\n",
      "      142675       0.00      0.00      0.00         2\n",
      "      142723       0.00      0.00      0.00         1\n",
      "      142961       0.00      0.00      0.00         1\n",
      "      143127       0.00      0.00      0.00         1\n",
      "      143148       0.00      0.00      0.00         1\n",
      "      143332       1.00      1.00      1.00         1\n",
      "      143478       0.00      0.00      0.00         1\n",
      "      143581       0.00      0.00      0.00         1\n",
      "      143589       0.00      0.00      0.00         1\n",
      "      143743       1.00      1.00      1.00         1\n",
      "      143810       1.00      1.00      1.00         1\n",
      "      143814       0.00      0.00      0.00         1\n",
      "      143839       0.00      0.00      0.00         1\n",
      "      143944       0.00      0.00      0.00         0\n",
      "      144008       0.00      0.00      0.00         1\n",
      "      144034       0.00      0.00      0.00         1\n",
      "      144076       0.00      0.00      0.00         1\n",
      "      144238       0.00      0.00      0.00         0\n",
      "      144273       0.00      0.00      0.00         1\n",
      "      144279       0.00      0.00      0.00         1\n",
      "      144291       0.00      0.00      0.00         1\n",
      "      144360       0.00      0.00      0.00         1\n",
      "      144635       0.00      0.00      0.00         1\n",
      "      145055       0.00      0.00      0.00         1\n",
      "      145155       1.00      1.00      1.00         1\n",
      "      145176       0.00      0.00      0.00         1\n",
      "      145200       0.00      0.00      0.00         1\n",
      "      145239       0.00      0.00      0.00         1\n",
      "      145253       0.00      0.00      0.00         1\n",
      "      145268       0.00      0.00      0.00         1\n",
      "      145269       0.00      0.00      0.00         0\n",
      "      145276       0.00      0.00      0.00         1\n",
      "      145510       0.00      0.00      0.00         1\n",
      "      145665       0.00      0.00      0.00         1\n",
      "      145784       0.00      0.00      0.00         1\n",
      "      145886       0.00      0.00      0.00         1\n",
      "      145922       0.00      0.00      0.00         1\n",
      "      145949       0.00      0.00      0.00         1\n",
      "      146087       0.00      0.00      0.00         1\n",
      "      146206       0.00      0.00      0.00         1\n",
      "      146271       1.00      1.00      1.00         1\n",
      "      146344       0.00      0.00      0.00         1\n",
      "      146367       0.00      0.00      0.00         1\n",
      "      146447       0.00      0.00      0.00         1\n",
      "      146510       0.00      0.00      0.00         1\n",
      "      146620       0.00      0.00      0.00         1\n",
      "      146673       0.00      0.00      0.00         1\n",
      "      146689       0.00      0.00      0.00         1\n",
      "      146690       0.00      0.00      0.00         1\n",
      "      146776       0.00      0.00      0.00         1\n",
      "      146845       0.00      0.00      0.00         1\n",
      "      146887       0.00      0.00      0.00         1\n",
      "      146933       0.00      0.00      0.00         1\n",
      "      147117       0.00      0.00      0.00         1\n",
      "      147147       0.00      0.00      0.00         1\n",
      "      147224       1.00      1.00      1.00         1\n",
      "      147250       0.00      0.00      0.00         1\n",
      "      147332       0.00      0.00      0.00         1\n",
      "      147398       0.00      0.00      0.00         1\n",
      "      147443       0.00      0.00      0.00         1\n",
      "      147568       0.00      0.00      0.00         1\n",
      "      147654       0.00      0.00      0.00         1\n",
      "      147667       0.00      0.00      0.00         1\n",
      "      147822       0.00      0.00      0.00         1\n",
      "      147878       0.00      0.00      0.00         1\n",
      "      148017       0.00      0.00      0.00         1\n",
      "      148075       0.00      0.00      0.00         1\n",
      "      148319       0.00      0.00      0.00         1\n",
      "      148356       0.00      0.00      0.00         1\n",
      "      148435       0.00      0.00      0.00         1\n",
      "      148461       0.00      0.00      0.00         1\n",
      "      148507       0.00      0.00      0.00         1\n",
      "      148594       1.00      1.00      1.00         1\n",
      "      148655       0.00      0.00      0.00         1\n",
      "      148716       0.00      0.00      0.00         1\n",
      "      148811       0.00      0.00      0.00         1\n",
      "      148978       0.00      0.00      0.00         1\n",
      "      149020       0.00      0.00      0.00         1\n",
      "      149157       0.00      0.00      0.00         1\n",
      "      149547       0.00      0.00      0.00         1\n",
      "      149575       0.00      0.00      0.00         1\n",
      "      149612       0.00      0.00      0.00         1\n",
      "      149689       0.00      0.00      0.00         1\n",
      "      149838       1.00      1.00      1.00         2\n",
      "      149898       0.00      0.00      0.00         2\n",
      "      149936       0.00      0.00      0.00         1\n",
      "      150017       0.00      0.00      0.00         1\n",
      "      150067       0.00      0.00      0.00         1\n",
      "      150456       0.00      0.00      0.00         1\n",
      "      150490       0.00      0.00      0.00         1\n",
      "      150534       0.00      0.00      0.00         1\n",
      "      150661       0.00      0.00      0.00         1\n",
      "      150769       0.00      0.00      0.00         1\n",
      "      150982       0.00      0.00      0.00         1\n",
      "      151097       0.00      0.00      0.00         1\n",
      "      151108       0.00      0.00      0.00         1\n",
      "      151192       0.00      0.00      0.00         1\n",
      "      151395       0.00      0.00      0.00         1\n",
      "      151656       1.00      1.00      1.00         1\n",
      "      151779       0.00      0.00      0.00         1\n",
      "      151793       0.00      0.00      0.00         1\n",
      "      151911       0.00      0.00      0.00         1\n",
      "      151936       0.00      0.00      0.00         1\n",
      "      152013       0.00      0.00      0.00         1\n",
      "      152377       0.00      0.00      0.00         1\n",
      "      152629       0.00      0.00      0.00         1\n",
      "      152662       0.00      0.00      0.00         1\n",
      "      152695       0.00      0.00      0.00         2\n",
      "      152748       0.00      0.00      0.00         1\n",
      "      152987       0.00      0.00      0.00         1\n",
      "      153082       0.00      0.00      0.00         1\n",
      "      153262       0.00      0.00      0.00         2\n",
      "      153278       0.00      0.00      0.00         1\n",
      "      153279       0.00      0.00      0.00         1\n",
      "      153432       0.00      0.00      0.00         1\n",
      "      153437       0.00      0.00      0.00         1\n",
      "      153553       0.00      0.00      0.00         1\n",
      "      153565       0.00      0.00      0.00         1\n",
      "      153622       0.00      0.00      0.00         1\n",
      "      153710       0.00      0.00      0.00         1\n",
      "      153768       0.00      0.00      0.00         1\n",
      "      153783       0.00      0.00      0.00         1\n",
      "      153842       1.00      1.00      1.00         1\n",
      "      154005       0.00      0.00      0.00         1\n",
      "      154022       0.00      0.00      0.00         1\n",
      "      154042       1.00      1.00      1.00         1\n",
      "      154187       0.00      0.00      0.00         1\n",
      "      154194       0.00      0.00      0.00         1\n",
      "      154251       0.00      0.00      0.00         1\n",
      "      154317       0.00      0.00      0.00         1\n",
      "      154330       0.00      0.00      0.00         1\n",
      "      154355       0.00      0.00      0.00         1\n",
      "      154368       0.00      0.00      0.00         1\n",
      "      154454       1.00      1.00      1.00         1\n",
      "      154522       0.00      0.00      0.00         1\n",
      "      154533       0.00      0.00      0.00         1\n",
      "      154682       0.00      0.00      0.00         1\n",
      "      154890       0.00      0.00      0.00         1\n",
      "      154921       0.00      0.00      0.00         1\n",
      "      154977       0.00      0.00      0.00         1\n",
      "      155097       0.00      0.00      0.00         1\n",
      "      155131       0.00      0.00      0.00         1\n",
      "      155222       0.00      0.00      0.00         0\n",
      "      155322       0.00      0.00      0.00         1\n",
      "      155587       0.00      0.00      0.00         2\n",
      "      155612       0.00      0.00      0.00         1\n",
      "      155957       0.00      0.00      0.00         1\n",
      "      156027       0.00      0.00      0.00         1\n",
      "      156547       0.00      0.00      0.00         1\n",
      "      156550       0.00      0.00      0.00         1\n",
      "      156582       0.00      0.00      0.00         1\n",
      "      156596       0.00      0.00      0.00         2\n",
      "      156680       0.00      0.00      0.00         1\n",
      "      156697       0.00      0.00      0.00         1\n",
      "      156754       1.00      1.00      1.00         1\n",
      "      156797       0.00      0.00      0.00         1\n",
      "      156799       0.00      0.00      0.00         1\n",
      "      156887       0.00      0.00      0.00         1\n",
      "      156893       0.00      0.00      0.00         0\n",
      "      156904       1.00      1.00      1.00         1\n",
      "      156958       0.00      0.00      0.00         1\n",
      "      157044       0.00      0.00      0.00         1\n",
      "      157172       0.00      0.00      0.00         1\n",
      "      157296       0.00      0.00      0.00         1\n",
      "      157460       0.00      0.00      0.00         1\n",
      "      157500       0.00      0.00      0.00         0\n",
      "      157566       0.00      0.00      0.00         1\n",
      "      157621       0.00      0.00      0.00         1\n",
      "      157735       0.00      0.00      0.00         0\n",
      "      157825       0.00      0.00      0.00         1\n",
      "      157885       0.00      0.00      0.00         1\n",
      "      157905       0.00      0.00      0.00         1\n",
      "      158220       0.00      0.00      0.00         1\n",
      "      158393       0.00      0.00      0.00         1\n",
      "      158499       0.00      0.00      0.00         1\n",
      "      158613       0.00      0.00      0.00         1\n",
      "      158770       0.00      0.00      0.00         1\n",
      "      158808       0.00      0.00      0.00         1\n",
      "      158825       0.00      0.00      0.00         1\n",
      "      158838       0.00      0.00      0.00         0\n",
      "      159056       0.00      0.00      0.00         1\n",
      "      159248       0.00      0.00      0.00         1\n",
      "      159375       0.00      0.00      0.00         1\n",
      "      159613       0.00      0.00      0.00         1\n",
      "      159675       0.00      0.00      0.00         1\n",
      "      159679       0.00      0.00      0.00         1\n",
      "      160119       0.00      0.00      0.00         1\n",
      "      160610       0.00      0.00      0.00         1\n",
      "      160807       0.00      0.00      0.00         1\n",
      "      160891       0.00      0.00      0.00         1\n",
      "      161046       0.00      0.00      0.00         1\n",
      "      161078       0.00      0.00      0.00         1\n",
      "      161160       0.00      0.00      0.00         1\n",
      "      161286       0.00      0.00      0.00         1\n",
      "      161361       0.00      0.00      0.00         1\n",
      "      161534       0.00      0.00      0.00         1\n",
      "      161684       0.00      0.00      0.00         1\n",
      "      161722       0.00      0.00      0.00         1\n",
      "      162075       0.00      0.00      0.00         1\n",
      "      162106       0.00      0.00      0.00         1\n",
      "      162198       1.00      1.00      1.00         1\n",
      "      162544       0.00      0.00      0.00         1\n",
      "      162681       0.00      0.00      0.00         1\n",
      "      162700       0.00      0.00      0.00         1\n",
      "      162756       0.00      0.00      0.00         1\n",
      "      162952       0.00      0.00      0.00         1\n",
      "      162970       0.00      0.00      0.00         1\n",
      "      163003       0.00      0.00      0.00         1\n",
      "      163176       0.00      0.00      0.00         1\n",
      "      163190       0.00      0.00      0.00         1\n",
      "      163260       0.00      0.00      0.00         1\n",
      "      163300       0.00      0.00      0.00         1\n",
      "      163320       0.00      0.00      0.00         1\n",
      "      163421       0.00      0.00      0.00         1\n",
      "      163499       0.00      0.00      0.00         1\n",
      "      163620       0.00      0.00      0.00         1\n",
      "      163621       0.00      0.00      0.00         1\n",
      "      163640       0.00      0.00      0.00         0\n",
      "      163667       0.00      0.00      0.00         1\n",
      "      163679       0.00      0.00      0.00         2\n",
      "      163826       0.00      0.00      0.00         1\n",
      "      164062       1.00      1.00      1.00         1\n",
      "      164173       0.00      0.00      0.00         1\n",
      "      164191       0.00      0.00      0.00         1\n",
      "      164282       0.00      0.00      0.00         1\n",
      "      164315       0.00      0.00      0.00         1\n",
      "      164469       0.00      0.00      0.00         1\n",
      "      164495       0.00      0.00      0.00         1\n",
      "      164556       0.00      0.00      0.00         1\n",
      "      164599       0.00      0.00      0.00         1\n",
      "      165086       1.00      1.00      1.00         1\n",
      "      165596       0.00      0.00      0.00         1\n",
      "      165715       0.00      0.00      0.00         1\n",
      "      165798       0.00      0.00      0.00         1\n",
      "      165875       0.00      0.00      0.00         0\n",
      "      165939       0.00      0.00      0.00         1\n",
      "      166140       0.00      0.00      0.00         1\n",
      "      166424       0.00      0.00      0.00         1\n",
      "      166458       0.00      0.00      0.00         1\n",
      "      166576       0.00      0.00      0.00         1\n",
      "      166684       0.00      0.00      0.00         0\n",
      "      166732       0.00      0.00      0.00         1\n",
      "      166751       0.00      0.00      0.00         1\n",
      "      166900       0.00      0.00      0.00         1\n",
      "      166919       0.00      0.00      0.00         1\n",
      "      167131       0.00      0.00      0.00         1\n",
      "      167147       0.00      0.00      0.00         1\n",
      "      167168       0.00      0.00      0.00         2\n",
      "      167404       0.00      0.00      0.00         0\n",
      "      167450       0.00      0.00      0.00         1\n",
      "      167605       0.00      0.00      0.00         1\n",
      "      167687       0.00      0.00      0.00         1\n",
      "      167739       0.00      0.00      0.00         1\n",
      "      167819       0.00      0.00      0.00         1\n",
      "      168048       1.00      1.00      1.00         1\n",
      "      168246       0.00      0.00      0.00         1\n",
      "      168254       0.00      0.00      0.00         1\n",
      "      168312       0.00      0.00      0.00         1\n",
      "      168484       0.00      0.00      0.00         1\n",
      "      168774       0.00      0.00      0.00         1\n",
      "      169048       0.00      0.00      0.00         1\n",
      "      169189       1.00      1.00      1.00         1\n",
      "      169297       0.00      0.00      0.00         1\n",
      "      169495       0.00      0.00      0.00         1\n",
      "      169777       1.00      1.00      1.00         1\n",
      "      169787       0.00      0.00      0.00         1\n",
      "      169954       0.00      0.00      0.00         1\n",
      "      169982       0.00      0.00      0.00         1\n",
      "      170054       0.00      0.00      0.00         1\n",
      "      170182       0.00      0.00      0.00         1\n",
      "      170353       0.00      0.00      0.00         1\n",
      "      170410       0.00      0.00      0.00         1\n",
      "      170478       0.00      0.00      0.00         1\n",
      "      170499       0.00      0.00      0.00         1\n",
      "      170630       0.00      0.00      0.00         1\n",
      "      170852       0.00      0.00      0.00         1\n",
      "      170965       0.00      0.00      0.00         1\n",
      "      171035       0.00      0.00      0.00         1\n",
      "      171038       0.00      0.00      0.00         1\n",
      "      171110       0.00      0.00      0.00         1\n",
      "      171138       1.00      1.00      1.00         1\n",
      "      171470       0.00      0.00      0.00         1\n",
      "      171482       0.00      0.00      0.00         1\n",
      "      171567       0.00      0.00      0.00         1\n",
      "      171724       0.00      0.00      0.00         1\n",
      "      171829       0.00      0.00      0.00         1\n",
      "      171857       0.00      0.00      0.00         1\n",
      "      171987       0.00      0.00      0.00         1\n",
      "      172022       0.00      0.00      0.00         1\n",
      "      172037       0.00      0.00      0.00         1\n",
      "      172296       1.00      1.00      1.00         1\n",
      "      172343       0.00      0.00      0.00         1\n",
      "      172361       0.00      0.00      0.00         2\n",
      "      172365       0.00      0.00      0.00         1\n",
      "      172466       0.00      0.00      0.00         1\n",
      "      172488       0.00      0.00      0.00         1\n",
      "      172503       0.00      0.00      0.00         1\n",
      "      172545       0.00      0.00      0.00         1\n",
      "      172578       0.00      0.00      0.00         1\n",
      "      172771       0.00      0.00      0.00         1\n",
      "      173054       0.00      0.00      0.00         1\n",
      "      173109       0.00      0.00      0.00         1\n",
      "      173133       0.00      0.00      0.00         1\n",
      "      173157       0.00      0.00      0.00         1\n",
      "      173262       0.00      0.00      0.00         1\n",
      "      173347       0.00      0.00      0.00         1\n",
      "      173366       0.00      0.00      0.00         1\n",
      "      173692       0.00      0.00      0.00         1\n",
      "      173781       1.00      1.00      1.00         1\n",
      "      173921       0.00      0.00      0.00         1\n",
      "      173961       0.00      0.00      0.00         1\n",
      "      174084       0.00      0.00      0.00         0\n",
      "      174177       0.00      0.00      0.00         1\n",
      "      174320       0.00      0.00      0.00         1\n",
      "      174357       0.00      0.00      0.00         1\n",
      "      174486       0.00      0.00      0.00         1\n",
      "      174760       0.00      0.00      0.00         1\n",
      "      174927       0.00      0.00      0.00         1\n",
      "      175190       0.00      0.00      0.00         1\n",
      "      175323       0.00      0.00      0.00         1\n",
      "      175449       0.00      0.00      0.00         1\n",
      "      175509       0.00      0.00      0.00         1\n",
      "      175675       0.00      0.00      0.00         1\n",
      "      175759       0.00      0.00      0.00         1\n",
      "      175875       0.00      0.00      0.00         2\n",
      "      175978       0.00      0.00      0.00         1\n",
      "      176024       0.00      0.00      0.00         1\n",
      "      176114       0.00      0.00      0.00         1\n",
      "      176123       0.00      0.00      0.00         1\n",
      "      176461       0.00      0.00      0.00         1\n",
      "      176828       0.00      0.00      0.00         1\n",
      "      176855       0.00      0.00      0.00         1\n",
      "      176995       0.00      0.00      0.00         1\n",
      "      177053       0.00      0.00      0.00         1\n",
      "      177120       0.00      0.00      0.00         1\n",
      "      177146       0.00      0.00      0.00         1\n",
      "      177486       0.00      0.00      0.00         1\n",
      "      177494       0.00      0.00      0.00         1\n",
      "      177516       0.00      0.00      0.00         1\n",
      "      177625       0.00      0.00      0.00         1\n",
      "      177804       0.00      0.00      0.00         1\n",
      "      178085       0.00      0.00      0.00         1\n",
      "      178137       0.00      0.00      0.00         1\n",
      "      178271       0.00      0.00      0.00         1\n",
      "      178283       0.00      0.00      0.00         1\n",
      "      178312       0.00      0.00      0.00         1\n",
      "      178381       0.00      0.00      0.00         1\n",
      "      178523       0.00      0.00      0.00         1\n",
      "      178954       0.00      0.00      0.00         1\n",
      "      179309       0.00      0.00      0.00         1\n",
      "      179471       0.00      0.00      0.00         1\n",
      "      179476       0.00      0.00      0.00         1\n",
      "      179818       1.00      1.00      1.00         1\n",
      "      179860       0.00      0.00      0.00         1\n",
      "      180047       0.00      0.00      0.00         1\n",
      "      180233       0.00      0.00      0.00         1\n",
      "      180301       0.00      0.00      0.00         1\n",
      "      180379       0.00      0.00      0.00         1\n",
      "      180380       0.00      0.00      0.00         1\n",
      "      180564       0.00      0.00      0.00         1\n",
      "      180566       0.00      0.00      0.00         1\n",
      "      180575       0.00      0.00      0.00         1\n",
      "      180633       0.00      0.00      0.00         1\n",
      "      180774       0.00      0.00      0.00         1\n",
      "      180922       0.00      0.00      0.00         1\n",
      "      180986       0.00      0.00      0.00         1\n",
      "      181120       0.00      0.00      0.00         1\n",
      "      181128       0.00      0.00      0.00         1\n",
      "      181143       0.00      0.00      0.00         1\n",
      "      181181       0.00      0.00      0.00         1\n",
      "      181200       0.00      0.00      0.00         1\n",
      "      181211       0.00      0.00      0.00         1\n",
      "      181266       0.00      0.00      0.00         1\n",
      "      181314       0.02      1.00      0.03         1\n",
      "      181336       0.00      0.00      0.00         1\n",
      "      181349       0.00      0.00      0.00         1\n",
      "      181362       0.00      0.00      0.00         1\n",
      "      181444       0.00      0.00      0.00         1\n",
      "      181605       0.00      0.00      0.00         1\n",
      "      181627       0.00      0.00      0.00         1\n",
      "      181768       1.00      1.00      1.00         1\n",
      "      181828       1.00      1.00      1.00         1\n",
      "      181975       0.00      0.00      0.00         1\n",
      "      181986       0.00      0.00      0.00         1\n",
      "      182075       0.06      1.00      0.11         1\n",
      "      182089       0.00      0.00      0.00         1\n",
      "      182324       0.00      0.00      0.00         1\n",
      "      182750       0.00      0.00      0.00         1\n",
      "      183139       0.00      0.00      0.00         1\n",
      "      183331       0.00      0.00      0.00         1\n",
      "      183343       0.00      0.00      0.00         1\n",
      "      183521       0.00      0.00      0.00         1\n",
      "      183602       0.00      0.00      0.00         1\n",
      "      183746       0.00      0.00      0.00         1\n",
      "      183750       0.00      0.00      0.00         1\n",
      "      183836       0.00      0.00      0.00         1\n",
      "      183856       0.00      0.00      0.00         1\n",
      "      183918       0.00      0.00      0.00         1\n",
      "      184030       0.00      0.00      0.00         1\n",
      "      184243       0.00      0.00      0.00         1\n",
      "      184304       0.00      0.00      0.00         1\n",
      "      184516       0.00      0.00      0.00         1\n",
      "      184593       0.00      0.00      0.00         1\n",
      "      184599       0.00      0.00      0.00         1\n",
      "      184628       0.00      0.00      0.00         1\n",
      "      184750       0.00      0.00      0.00         1\n",
      "      184792       0.00      0.00      0.00         1\n",
      "      185107       0.00      0.00      0.00         1\n",
      "      185298       0.00      0.00      0.00         1\n",
      "      185359       0.00      0.00      0.00         1\n",
      "      185394       0.00      0.00      0.00         1\n",
      "      185470       0.00      0.00      0.00         1\n",
      "      185490       0.00      0.00      0.00         1\n",
      "      185582       0.00      0.00      0.00         1\n",
      "      185757       0.00      0.00      0.00         1\n",
      "      185763       0.00      0.00      0.00         1\n",
      "      185933       0.00      0.00      0.00         0\n",
      "      186001       0.00      0.00      0.00         1\n",
      "      186267       0.00      0.00      0.00         1\n",
      "      186388       0.00      0.00      0.00         1\n",
      "      186429       0.00      0.00      0.00         1\n",
      "      186516       0.00      0.00      0.00         2\n",
      "      186579       0.00      0.00      0.00         1\n",
      "      186924       0.00      0.00      0.00         1\n",
      "      186960       0.00      0.00      0.00         1\n",
      "      187185       0.00      0.00      0.00         1\n",
      "      187230       0.00      0.00      0.00         1\n",
      "      187233       0.00      0.00      0.00         2\n",
      "      187277       0.00      0.00      0.00         1\n",
      "      187538       0.00      0.00      0.00         1\n",
      "      187642       0.00      0.00      0.00         1\n",
      "      187804       0.00      0.00      0.00         1\n",
      "      188209       0.00      0.00      0.00         1\n",
      "      188244       0.00      0.00      0.00         1\n",
      "      188304       0.00      0.00      0.00         1\n",
      "      188355       0.00      0.00      0.00         1\n",
      "      188440       0.00      0.00      0.00         1\n",
      "      188532       0.00      0.00      0.00         1\n",
      "      188783       0.00      0.00      0.00         1\n",
      "      189160       0.00      0.00      0.00         1\n",
      "      189191       0.00      0.00      0.00         1\n",
      "      189198       0.00      0.00      0.00         0\n",
      "      189342       0.00      0.00      0.00         1\n",
      "      189428       0.00      0.00      0.00         1\n",
      "      189527       0.00      0.00      0.00         1\n",
      "      189710       0.00      0.00      0.00         1\n",
      "      189858       0.00      0.00      0.00         1\n",
      "      189967       0.00      0.00      0.00         1\n",
      "      190007       1.00      1.00      1.00         1\n",
      "      190011       0.00      0.00      0.00         1\n",
      "      190029       0.00      0.00      0.00         1\n",
      "      190544       0.00      0.00      0.00         1\n",
      "      190638       1.00      1.00      1.00         1\n",
      "      190685       0.00      0.00      0.00         1\n",
      "      190703       0.00      0.00      0.00         1\n",
      "      190728       0.00      0.00      0.00         1\n",
      "      190880       0.00      0.00      0.00         1\n",
      "      190919       0.00      0.00      0.00         1\n",
      "      190994       0.00      0.00      0.00         1\n",
      "      190999       0.00      0.00      0.00         1\n",
      "      191043       0.00      0.00      0.00         1\n",
      "      191111       0.00      0.00      0.00         1\n",
      "      191319       0.00      0.00      0.00         1\n",
      "      191337       0.00      0.00      0.00         0\n",
      "      191365       0.00      0.00      0.00         1\n",
      "      191489       0.00      0.00      0.00         1\n",
      "      191551       0.00      0.00      0.00         1\n",
      "      191715       0.00      0.00      0.00         1\n",
      "      191854       1.00      1.00      1.00         1\n",
      "      192006       0.00      0.00      0.00         1\n",
      "      192017       0.00      0.00      0.00         0\n",
      "      192112       0.00      0.00      0.00         1\n",
      "      192355       0.00      0.00      0.00         1\n",
      "      192459       0.00      0.00      0.00         1\n",
      "      192470       0.00      0.00      0.00         1\n",
      "      192640       0.00      0.00      0.00         1\n",
      "      192646       0.00      0.00      0.00         0\n",
      "      193032       0.00      0.00      0.00         0\n",
      "      193361       0.00      0.00      0.00         1\n",
      "      193394       0.00      0.00      0.00         1\n",
      "      193464       0.00      0.00      0.00         1\n",
      "      193516       0.00      0.00      0.00         1\n",
      "      193630       0.00      0.00      0.00         1\n",
      "      193725       0.00      0.00      0.00         1\n",
      "      193835       0.00      0.00      0.00         1\n",
      "      194199       0.00      0.00      0.00         1\n",
      "      194278       0.00      0.00      0.00         1\n",
      "      194289       0.00      0.00      0.00         1\n",
      "      194322       0.00      0.00      0.00         1\n",
      "      194465       0.00      0.00      0.00         1\n",
      "      194569       0.00      0.00      0.00         1\n",
      "      194584       0.00      0.00      0.00         1\n",
      "      194802       0.00      0.00      0.00         2\n",
      "      194985       0.00      0.00      0.00         2\n",
      "      195040       0.00      0.00      0.00         1\n",
      "      195107       0.00      0.00      0.00         1\n",
      "      195215       0.00      0.00      0.00         1\n",
      "      195290       0.00      0.00      0.00         1\n",
      "      195301       0.00      0.00      0.00         1\n",
      "      195346       1.00      1.00      1.00         1\n",
      "      195352       0.00      0.00      0.00         1\n",
      "      195502       0.00      0.00      0.00         1\n",
      "      195608       0.00      0.00      0.00         1\n",
      "      195634       0.00      0.00      0.00         1\n",
      "      195686       0.00      0.00      0.00         1\n",
      "      196007       0.00      0.00      0.00         1\n",
      "      196162       0.00      0.00      0.00         1\n",
      "      196183       0.00      0.00      0.00         1\n",
      "      196193       0.00      0.00      0.00         1\n",
      "      196251       0.00      0.00      0.00         1\n",
      "      196379       0.00      0.00      0.00         1\n",
      "      196388       0.00      0.00      0.00         1\n",
      "      196431       1.00      1.00      1.00         1\n",
      "      196569       0.00      0.00      0.00         1\n",
      "      196700       0.00      0.00      0.00         1\n",
      "      196900       0.00      0.00      0.00         1\n",
      "      197012       0.00      0.00      0.00         1\n",
      "      197024       0.00      0.00      0.00         1\n",
      "      197216       0.00      0.00      0.00         1\n",
      "      197284       0.00      0.00      0.00         1\n",
      "      197291       1.00      1.00      1.00         1\n",
      "      197294       0.00      0.00      0.00         1\n",
      "      197335       0.00      0.00      0.00         1\n",
      "      197379       0.00      0.00      0.00         1\n",
      "      197524       0.00      0.00      0.00         2\n",
      "      197660       0.00      0.00      0.00         1\n",
      "      197673       0.00      0.00      0.00         1\n",
      "      197964       0.00      0.00      0.00         1\n",
      "      198111       0.00      0.00      0.00         1\n",
      "      198282       0.00      0.00      0.00         1\n",
      "      198314       0.00      0.00      0.00         1\n",
      "      198923       0.00      0.00      0.00         1\n",
      "      198990       0.00      0.00      0.00         1\n",
      "      199060       0.00      0.00      0.00         1\n",
      "      199751       0.00      0.00      0.00         1\n",
      "      199802       0.00      0.00      0.00         1\n",
      "      199998       0.00      0.00      0.00         1\n",
      "\n",
      "    accuracy                           0.07      1500\n",
      "   macro avg       0.07      0.07      0.07      1500\n",
      "weighted avg       0.07      0.07      0.07      1500\n",
      "\n"
     ]
    },
    {
     "name": "stderr",
     "output_type": "stream",
     "text": [
      "C:\\Users\\91799\\anaconda3\\lib\\site-packages\\sklearn\\metrics\\_classification.py:1318: UndefinedMetricWarning: Precision and F-score are ill-defined and being set to 0.0 in labels with no predicted samples. Use `zero_division` parameter to control this behavior.\n",
      "  _warn_prf(average, modifier, msg_start, len(result))\n",
      "C:\\Users\\91799\\anaconda3\\lib\\site-packages\\sklearn\\metrics\\_classification.py:1318: UndefinedMetricWarning: Recall and F-score are ill-defined and being set to 0.0 in labels with no true samples. Use `zero_division` parameter to control this behavior.\n",
      "  _warn_prf(average, modifier, msg_start, len(result))\n",
      "C:\\Users\\91799\\anaconda3\\lib\\site-packages\\sklearn\\metrics\\_classification.py:1318: UndefinedMetricWarning: Precision and F-score are ill-defined and being set to 0.0 in labels with no predicted samples. Use `zero_division` parameter to control this behavior.\n",
      "  _warn_prf(average, modifier, msg_start, len(result))\n",
      "C:\\Users\\91799\\anaconda3\\lib\\site-packages\\sklearn\\metrics\\_classification.py:1318: UndefinedMetricWarning: Recall and F-score are ill-defined and being set to 0.0 in labels with no true samples. Use `zero_division` parameter to control this behavior.\n",
      "  _warn_prf(average, modifier, msg_start, len(result))\n",
      "C:\\Users\\91799\\anaconda3\\lib\\site-packages\\sklearn\\metrics\\_classification.py:1318: UndefinedMetricWarning: Precision and F-score are ill-defined and being set to 0.0 in labels with no predicted samples. Use `zero_division` parameter to control this behavior.\n",
      "  _warn_prf(average, modifier, msg_start, len(result))\n",
      "C:\\Users\\91799\\anaconda3\\lib\\site-packages\\sklearn\\metrics\\_classification.py:1318: UndefinedMetricWarning: Recall and F-score are ill-defined and being set to 0.0 in labels with no true samples. Use `zero_division` parameter to control this behavior.\n",
      "  _warn_prf(average, modifier, msg_start, len(result))\n"
     ]
    }
   ],
   "source": [
    "from sklearn.metrics import classification_report\n",
    "print(classification_report(y_test,naivebayes))"
   ]
  },
  {
   "cell_type": "code",
   "execution_count": 81,
   "id": "157d3d57",
   "metadata": {},
   "outputs": [
    {
     "name": "stdout",
     "output_type": "stream",
     "text": [
      "accuracy_score: 0.074\n",
      "precision_score: 0.07338206627680312\n",
      "f1_score: 0.0729820528332325\n",
      "recall_score: 0.074\n"
     ]
    },
    {
     "name": "stderr",
     "output_type": "stream",
     "text": [
      "C:\\Users\\91799\\anaconda3\\lib\\site-packages\\sklearn\\metrics\\_classification.py:1318: UndefinedMetricWarning: Precision is ill-defined and being set to 0.0 in labels with no predicted samples. Use `zero_division` parameter to control this behavior.\n",
      "  _warn_prf(average, modifier, msg_start, len(result))\n",
      "C:\\Users\\91799\\anaconda3\\lib\\site-packages\\sklearn\\metrics\\_classification.py:1318: UndefinedMetricWarning: Recall is ill-defined and being set to 0.0 in labels with no true samples. Use `zero_division` parameter to control this behavior.\n",
      "  _warn_prf(average, modifier, msg_start, len(result))\n"
     ]
    }
   ],
   "source": [
    "print('accuracy_score:',accuracy_score(y_test,naivebayes))\n",
    "print('precision_score:',precision_score(y_test,naivebayes,average='weighted'))\n",
    "print('f1_score:',f1_score(y_test,naivebayes,average='weighted'))\n",
    "print('recall_score:',recall_score(y_test,naivebayes,average='weighted'))"
   ]
  },
  {
   "cell_type": "markdown",
   "id": "8a7628f2",
   "metadata": {},
   "source": [
    "# KNN"
   ]
  },
  {
   "cell_type": "code",
   "execution_count": 82,
   "id": "8fba0557",
   "metadata": {},
   "outputs": [],
   "source": [
    "from sklearn.neighbors import KNeighborsClassifier\n",
    "acc_values = [] #find the optimum k values\n",
    "neighbors = np.arange(3,15)\n",
    "for k in neighbors:\n",
    "  classifier = KNeighborsClassifier(n_neighbors=k, metric='minkowski')\n",
    "  classifier.fit(x_test,y_test)\n",
    "  y_pred = classifier.predict(x_test)\n",
    "  acc = accuracy_score(y_test,y_pred) # find the maximum accuracy\n",
    "  acc_values.append(acc)"
   ]
  },
  {
   "cell_type": "code",
   "execution_count": 83,
   "id": "ca0d0c19",
   "metadata": {},
   "outputs": [
    {
     "data": {
      "text/plain": [
       "Text(0, 0.5, 'accuracy')"
      ]
     },
     "execution_count": 83,
     "metadata": {},
     "output_type": "execute_result"
    },
    {
     "data": {
      "image/png": "[encoded data removed]",
      "text/plain": [
       "<Figure size 432x288 with 1 Axes>"
      ]
     },
     "metadata": {
      "needs_background": "light"
     },
     "output_type": "display_data"
    }
   ],
   "source": [
    "plt.plot(neighbors, acc_values,'o-')\n",
    "plt.xlabel('k value')\n",
    "plt.ylabel('accuracy')"
   ]
  },
  {
   "cell_type": "code",
   "execution_count": 84,
   "id": "ac1d3ff2",
   "metadata": {},
   "outputs": [
    {
     "name": "stdout",
     "output_type": "stream",
     "text": [
      "accuracy_score: 0.10266666666666667\n"
     ]
    }
   ],
   "source": [
    "# now we can make the model with k value as 3\n",
    "classifier = KNeighborsClassifier(n_neighbors=12, metric='minkowski')\n",
    "classifier.fit(x_test,y_test)\n",
    "y_pred = classifier.predict(x_test)\n",
    "\n",
    "# Calling function to check model performances\n",
    "print('accuracy_score:',accuracy_score(y_test,y_pred))"
   ]
  },
  {
   "cell_type": "markdown",
   "id": "2c3f91fc",
   "metadata": {},
   "source": [
    "Here the best model is KNN because knn have the high accuracy"
   ]
  },
  {
   "cell_type": "code",
   "execution_count": null,
   "id": "0b826e29",
   "metadata": {},
   "outputs": [],
   "source": []
  }
 ],
 "metadata": {
  "kernelspec": {
   "display_name": "Python 3",
   "language": "python",
   "name": "python3"
  },
  "language_info": {
   "codemirror_mode": {
    "name": "ipython",
    "version": 3
   },
   "file_extension": ".py",
   "mimetype": "text/x-python",
   "name": "python",
   "nbconvert_exporter": "python",
   "pygments_lexer": "ipython3",
   "version": "3.8.8"
  }
 },
 "nbformat": 4,
 "nbformat_minor": 5
}
